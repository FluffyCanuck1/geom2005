{
 "cells": [
  {
   "cell_type": "markdown",
   "id": "daf3d65e",
   "metadata": {},
   "source": [
    "# Lecture 4 - Practice Programs"
   ]
  },
  {
   "cell_type": "markdown",
   "id": "6e16d7a8",
   "metadata": {},
   "source": [
    "---\n",
    "# Practice Program 4.1a & 4.1b (Lecture) - Guess My Favourite Number\n",
    "\n",
    "*These two practice programs appears in the lecture slides. They have been included here so that you can see how the Python syntax of these example work.*\n",
    "\n",
    "Let's return to the *Guess My Favourite Number* game from lecture 3. In that program the person had one chance to guess the correct number. If they did not guess the correct number the program simply told them they were wrong and then it ended. If you wanted to guess again the program had to be rerun. \n",
    "\n",
    "By using loops we can modify that program so that it will continue to run until a certain condition has been met.\n",
    "\n",
    "### For this practice program please create a basic Python program that will:\n",
    "\n",
    "- Continue the guessing game until the user guesses the right answer\n",
    "- When they guess the right answer print a message to congragulate them\n"
   ]
  },
  {
   "cell_type": "code",
   "execution_count": null,
   "id": "825c29ae",
   "metadata": {},
   "outputs": [],
   "source": [
    "# The code for this practice program was covered in the lecture slides\n",
    "# It is included here so you can see how it works in a live environment\n",
    "# +++++++++++++++++++++++++++++++++++++++++++++++++++++++++++++++++++++\n",
    "\n",
    "# Assign my favourite number to a variable\n",
    "my_fav_no = 7\n",
    "\n",
    "# Intialize the guess variable to 0\n",
    "guess = 0\n",
    "\n",
    "# While the guess does not match the favourite number:\n",
    "while(my_fav_no != guess):\n",
    "    \n",
    "    # Ask the user to input a guess and convert it to an integer\n",
    "    guess = int(input(\"What is my favourite number: \"))\n",
    "\n",
    "# If the guess matches the favourite number the condition fails\n",
    "# Print a message of congratulations\n",
    "print(\"You guessed right!\")\n"
   ]
  },
  {
   "cell_type": "markdown",
   "id": "d2a53638",
   "metadata": {},
   "source": [
    "### And, create a second more sophisticated Python program that will:\n",
    "\n",
    "- Give the person guessing 10 attempts\n",
    "- If they guess too high print a message saying `Too high`\n",
    "- If they guess too low print a message saying `Too low`"
   ]
  },
  {
   "cell_type": "code",
   "execution_count": null,
   "id": "d04fc833",
   "metadata": {},
   "outputs": [],
   "source": [
    "# The code for this practice program was covered in the lecture slides\n",
    "# It is included here so you can see how it works in a live environment\n",
    "# +++++++++++++++++++++++++++++++++++++++++++++++++++++++++++++++++++++\n",
    "\n",
    "# Assign my favourite number to a variable\n",
    "my_fav_no = 7\n",
    "\n",
    "# Intialize the guess variable to 0\n",
    "guess = 0\n",
    "\n",
    "# Set the maximum number of attempts to 10\n",
    "attempts_allowed = 10\n",
    "\n",
    "# For the attempt number within the range of allowed attempts:\n",
    "for attempt_no in range(1, attempts_allowed):\n",
    "    \n",
    "    # Ask the user to input a guess and convert it to an integer\n",
    "    guess = int(input(\"What is my favourite number?:\"))\n",
    "    \n",
    "    # Add 1 to the attempt number in order to keep track of how many attempts have been made\n",
    "    attempt_no = attempt_no + 1\n",
    "    \n",
    "    # If the guess is too high print a message\n",
    "    if my_fav_no < guess:\n",
    "        print(\"Too high!\")\n",
    "        \n",
    "    # If the guess is too low print a message\n",
    "    elif my_fav_no > guess:\n",
    "        print(\"Too low!\")\n",
    "    \n",
    "    # If the guess is not too high or too low it must be correct so print a message\n",
    "    else:\n",
    "        print(\"You guessed right!\")\n",
    "        print(\"You guessed correctly on your attempt number \", attempt_no)\n",
    "        \n",
    "        # Break the loop as the game is over\n",
    "        break"
   ]
  },
  {
   "cell_type": "markdown",
   "id": "5ceb0acb-f555-4c79-b3f3-9ce3c115ceef",
   "metadata": {},
   "source": [
    "---\n",
    "# Common Error(s)\n",
    "\n",
    "Before starting to code if statements, here are a couple of things that may result in errors. Keeping these in mind can help you avoid errors and rectify errors."
   ]
  },
  {
   "cell_type": "markdown",
   "id": "60fa0540-0382-4421-ab32-39fbb3c8e836",
   "metadata": {},
   "source": [
    "## Range does not include the last number\n",
    "Counting Loops – Remember that in Python a loop doesn’t count the last number you specify in a range. "
   ]
  },
  {
   "cell_type": "code",
   "execution_count": null,
   "id": "b109b3f0-dcdf-44d3-a107-5d3ab23d1db6",
   "metadata": {},
   "outputs": [],
   "source": [
    "for i in range (0,10):\n",
    "    print(i)\n",
    "print(\"Out of loop\")"
   ]
  },
  {
   "cell_type": "markdown",
   "id": "fb3044b0-8499-452c-aafd-2464bc273855",
   "metadata": {},
   "source": [
    "The above code will not print 10. The range functions starts producing numbers from the `first number` specified (in this case 0) to the `last number - 1` (in this case 10-1 = 9)."
   ]
  },
  {
   "cell_type": "markdown",
   "id": "7b07c490-9334-4cb0-802a-3165a1c3b178",
   "metadata": {},
   "source": [
    "## Other Errors:\n",
    " - Colon Error\n",
    " - Indentation Error"
   ]
  },
  {
   "cell_type": "markdown",
   "id": "c218e793",
   "metadata": {},
   "source": [
    "---\n",
    "# Practice Program 4.2 - While Loop Basics\n",
    "\n",
    "While loops are used to repeatedly perform a set of statements while a condition is being met. As soon as that condition is no longer being met the while loop will end.\n",
    "\n",
    "**Example:**\n",
    "```\n",
    ">>> i = 0\n",
    "    while i < 10:\n",
    "        i = i + 1\n",
    "        print(i)\n",
    "    print(\"Done\")\n",
    "\n",
    "1\n",
    "2\n",
    "3\n",
    "4\n",
    "5\n",
    "6\n",
    "7\n",
    "8\n",
    "9\n",
    "10\n",
    "Done\n",
    "```\n",
    "\n",
    "In this example the variable `i` is initialized with a value of `0`. The while loop has a condition (`while i < 10`) that allows it to continue looping so long as `i` is less than `10`. Each time the loop is performed, everything indented below the condition is evaluated, line by line. This means that while the condition is true, each loop will see that `1` is added to `i` and then `i` is printed. After 10 repetitions of the loop the condition fails (`i` is no longer less than `10`) and the loop ends. At that point the next statement is evaluated and `Done` is printed.\n",
    "\n",
    "Many people don't find looping to be very intuitive and it will likely take you some trial & error and practice to become proficient at it. Try some more simple while loop examples here: [W3Schools - Python While Loops](https://www.w3schools.com/python/python_while_loops.asp).\n",
    "\n",
    "### For this practice program please create a simple Python program that will:\n",
    "- Use a while loop to determine the sum of the first 50 positive integers (1 - 50).\n",
    "- Example: 1 + 2 + 3 + 4 etc.\n",
    "\n",
    "### Expected output:\n",
    "```\n",
    "1275\n",
    "```\n",
    "\n",
    "### Notes / Tips:\n",
    "- Before starting the while loop you'll need initialize two variables: one to hold the sum, and another to act as a counter. They should both be initialized at zero.\n",
    "- It's pretty easy to make an infinite loop when using while loops. Just make sure to undate the value that the condition is checking or figure out another way of breaking out of the loop."
   ]
  },
  {
   "cell_type": "code",
   "execution_count": null,
   "id": "0a565023",
   "metadata": {},
   "outputs": [],
   "source": [
    "# Use this cell for your solution to Practice Program 4.2\n",
    "# +++++++++++++++++++++++++++++++++++++++++++++++++++++++\n",
    "\n"
   ]
  },
  {
   "cell_type": "markdown",
   "id": "7f1a0965",
   "metadata": {},
   "source": [
    "**Click on the three dots `...` below to reveal a possible solution**"
   ]
  },
  {
   "cell_type": "code",
   "execution_count": null,
   "id": "134e1804",
   "metadata": {
    "jupyter": {
     "source_hidden": true
    },
    "tags": []
   },
   "outputs": [],
   "source": [
    "# This is one possible solution for Practice Program 4.2\n",
    "# ++++++++++++++++++++++++++++++++++++++++++++++++++++++\n",
    "\n",
    "# Initialize variables\n",
    "sum = 0\n",
    "counter = 1\n",
    "\n",
    "# Use a while loop to calculate the sum of the first 50 integers\n",
    "while counter < 51:\n",
    "    sum = sum + counter\n",
    "    counter = counter + 1\n",
    "    \n",
    "# Print the sum\n",
    "print(sum)"
   ]
  },
  {
   "cell_type": "markdown",
   "id": "e8a3b68e",
   "metadata": {
    "tags": []
   },
   "source": [
    "---\n",
    "# Practice Program 4.3 - For Loop Basics\n",
    "\n",
    "For loops are used to perform a set of statements on a sequence of values. That sequence of values can be a range of numbers, a list of values, a string of characters, or several other data types in Python. For loops are a very powerful tool that will allow us to work with small and large data sets.\n",
    "\n",
    "**Example:**\n",
    "```\n",
    ">>> for i in \"hello world\":\n",
    "        print(i)\n",
    "\n",
    "h\n",
    "e\n",
    "l\n",
    "l\n",
    "o\n",
    " \n",
    "w\n",
    "o\n",
    "r\n",
    "l\n",
    "d\n",
    "```\n",
    "\n",
    "In this example, `i` is the variable that will hold each element of the sequence. In the first iteration `i` is assigned the value of`h` so that's what gets printed, then `i` is assigned the value `e`, and so on.\n",
    "\n",
    "Calling the iterator variable `i` is simply a convention - we can give it any valid variable name. In fact, it's often useful to give it a descriptive name (e.g. `for town in town_list`). It's important to note that we do not need to assign a value to `i` in advance - it gets assigned a value each time the loop moves from one element of the sequence to the next.\n",
    "\n",
    "For loops are often used with the `range()` function. This function creates a sequence of values that are assigned to the iterator variable (e.g. `i`). This can be used as way of referencing the index of items in a list.\n",
    "The parameters for `range()` are `range(start, stop, step)`\n",
    "- start (optional): the starting postion, default value is 0\n",
    "- stop (required): the stopping position (not included)\n",
    "- step (optional): the increments of each step, default value is 1\n",
    "\n",
    "**Example:**\n",
    "```\n",
    ">>> for i in range(0, 10):\n",
    "        print(i)\n",
    "\n",
    "0\n",
    "1\n",
    "2\n",
    "3\n",
    "4\n",
    "5\n",
    "6\n",
    "7\n",
    "8\n",
    "9\n",
    "```\n",
    "\n",
    "In this example, the for loop iterates over the sequence of integers created by `range()` - during each loop the iterator variable `i` is assigned the next value in that sequence and then prints it. The looping ends when `i` reaches the end of the sequence. It doesn't print `10` because `range()` does not include the value of the stop parameter - only the previous value.\n",
    "\n",
    "Many people don't find looping to be very intuitive and it will likely take you some trial & error and practice to become proficient at it. Try some more simple for loop examples here: [W3Schools - Python For Loops](https://www.w3schools.com/python/python_for_loops.asp).\n",
    "\n",
    "### For this practice program please create a simple Python program that will:\n",
    "- Use a for loop to determine the sum of the first 50 positive integers (1 - 50).\n",
    "- Example: 1 + 2 + 3 + 4 etc.\n",
    "\n",
    "### Expected output:\n",
    "```\n",
    "1275\n",
    "```\n",
    "\n",
    "### Notes / Tips:\n",
    "- You will need to initialize a variable to hold the sum. Set it to `0` before the start of the for loop.\n",
    "- Use `range()` to create a sequence of numbers that include 1 to 50. E.g. `range(1, 51)`\n",
    "    - If you need help with the range function you can read up on it here: [W3Schools - Python range() Function](https://www.w3schools.com/python/ref_func_range.asp)\n"
   ]
  },
  {
   "cell_type": "code",
   "execution_count": null,
   "id": "489fd7aa",
   "metadata": {},
   "outputs": [],
   "source": [
    "# Use this cell for your solution to Practice Program 4.3\n",
    "# +++++++++++++++++++++++++++++++++++++++++++++++++++++++\n",
    "\n",
    "\n"
   ]
  },
  {
   "cell_type": "markdown",
   "id": "802695fd",
   "metadata": {},
   "source": [
    "**Click on the three dots `...` below to reveal a possible solution**"
   ]
  },
  {
   "cell_type": "code",
   "execution_count": null,
   "id": "2103a74c",
   "metadata": {
    "jupyter": {
     "source_hidden": true
    },
    "tags": []
   },
   "outputs": [],
   "source": [
    "# This is one possible solution for Practice Program 4.3\n",
    "# ++++++++++++++++++++++++++++++++++++++++++++++++++++++\n",
    "\n",
    "# Initialize variables\n",
    "sum = 0\n",
    "\n",
    "# Use a while loop to calculate the sum of the first 50 integers\n",
    "for counter in range(1, 51):\n",
    "    sum = sum + counter\n",
    "\n",
    "# Print the sum\n",
    "print(sum)"
   ]
  },
  {
   "cell_type": "markdown",
   "id": "99c9f5fe",
   "metadata": {},
   "source": [
    "***Bonus***\n",
    "\n",
    "Can you modify the above program to only generate the sum of even or odd numbers? <br>\n",
    "Have a look at the documentation for range. It can take a third argument which specifies the increment between the numbers. So, you can try something like `range(1, 51, 2)`"
   ]
  },
  {
   "cell_type": "markdown",
   "id": "44ca2bc1",
   "metadata": {},
   "source": [
    "# Practice Program 4.4 - Using A For Loop To Calculate The Mean Of Some Data\n",
    "\n",
    "In this practice program we are going to incorporate a Python data type called a list. Lists are very versatile and are appropriate for storing a wide range of different elements - including strings, integers, floats, variables, expressions, and even other lists. Lists are ordered - meaning we can access the elements based on their position in the list (their index). They are also mutable - this means we can modify, remove, and add elements to an exisiting list. Loops, especially for loops, are frequently used to iterate over all of the elements in a list and perform some sort of action on them. We can use a loop to evaluate the elements, duplicate, modify, remove, etc.\n",
    "\n",
    "In the Python, lists are denoted by square brackets and the elements are separated by commas. Each element can be any type of Python object. They can be as simple as this: `simple_list = [1, 2, 3]`, or they can contain a diversity of objects:`diverse_list = [\"hello\", 1, 2.5, [a, b, c], 2 + d, \"world\"]`.\n",
    "\n",
    "A good way to practice for loops and working with lists is to calculate the mean of some data. We could just use `mean()` but where's the fun in that? The formula for the sample mean is:\n",
    "\n",
    "$x̄=\\frac{∑x}{n}$\n",
    "\n",
    "Where:\n",
    "- $x̄$ is the sample mean\n",
    "- $∑x$ is the sum of the observations\n",
    "- $n$ is the number of observations\n",
    "\n",
    "Here's how that will look in Python using a for loop:\n",
    "\n",
    "```\n",
    ">>> data_list = [5, 8, 12, 56, 3, 36]\n",
    "\n",
    "    sum = 0\n",
    "    for i in data_list:\n",
    "        sum = sum + i\n",
    "\n",
    "    mean = sum / len(data_list)\n",
    "\n",
    "    print(mean)\n",
    "    \n",
    "20.0\n",
    "```\n",
    "In this example we start by initializing the sum to be zero. We then use a for loop to iterate over the list, each time assigning a list element to `i` and then adding it to `sum`. After summing all the elements of the list we calculate the mean by dividing the sum by the number of elements in the list. The length function `len()` is handy to determine number of elements in the list.\n",
    "\n",
    "### For this practice program please create a simple Python program that will:\n",
    "- Use a for loop to calculate the mean of a list of observations that is provided in the cell below\n",
    "- Print the sum, the mean, and the number of observations\n",
    "\n",
    "### Expected Output:\n",
    "```\n",
    "Sum  : 268\n",
    "Mean : 33.5\n",
    "n    : 8\n",
    "```\n",
    "\n",
    "### Tips / Notes:\n",
    "- The solution is almost completely provided in the example above. Just add a couple of extra print statements in order to get the expected output.\n",
    "- Read all about lists here: [W3Schools - Python Lists](https://www.w3schools.com/python/python_lists.asp)\n"
   ]
  },
  {
   "cell_type": "code",
   "execution_count": null,
   "id": "6c1b6ac2",
   "metadata": {},
   "outputs": [],
   "source": [
    "# Use this cell for your solution to Practice Program 4.4\n",
    "# +++++++++++++++++++++++++++++++++++++++++++++++++++++++\n",
    "\n",
    "# The list of observations\n",
    "data_list = [5, 8, 12, 56, 3, 36, 48, 100]\n",
    "\n",
    "\n"
   ]
  },
  {
   "cell_type": "markdown",
   "id": "2a22430c",
   "metadata": {},
   "source": [
    "**Click on the three dots `...` below to reveal a possible solution**"
   ]
  },
  {
   "cell_type": "code",
   "execution_count": null,
   "id": "5fd51587",
   "metadata": {
    "jupyter": {
     "source_hidden": true
    },
    "tags": []
   },
   "outputs": [],
   "source": [
    "# This is one possible solution for Practice Program 4.4\n",
    "# ++++++++++++++++++++++++++++++++++++++++++++++++++++++\n",
    "\n",
    "# The list of observations\n",
    "data_list = [5, 8, 12, 56, 3, 36, 48, 100]\n",
    "\n",
    "# Initialize the sum variable to 0\n",
    "sum = 0\n",
    "\n",
    "# Use a for loop to calculate the sum of the observations in the list\n",
    "for i in data_list:\n",
    "    sum = sum + i\n",
    "\n",
    "# Calculate the mean\n",
    "mean = sum / len(data_list)\n",
    "\n",
    "# Print the descriptive statistics\n",
    "print(\"Sum  :\", sum)\n",
    "print(\"Mean :\", mean)\n",
    "print(\"n    :\", len(data_list))"
   ]
  },
  {
   "cell_type": "markdown",
   "id": "452192f6",
   "metadata": {},
   "source": [
    "---\n",
    "## Practice Program 4.5 - Nested Loops to Generate Multiplication Tables\n",
    "\n",
    "Use nested loops to generate multiplication tables. Remember that in nested loops, outer loops are incremented only after all values in the inner loop has been exhausted.\n",
    "\n",
    "**For example:**\n",
    "```\n",
    "for i in range(1,3):\n",
    "    for i in range(0,3):\n",
    "        print(i, j)\n",
    "\n",
    "Output:\n",
    "1 0\n",
    "1 1\n",
    "1 2\n",
    "2 0\n",
    "2 1\n",
    "2 2\n",
    "```\n",
    "\n",
    "In this practise program, you need to generate the multiplication tables for 1 to 10. The output should look like:\n",
    "```\n",
    "1 x 1 = 1\n",
    "1 x 2 = 2\n",
    "1 x 3 = 3\n",
    ".\n",
    ".\n",
    ".\n",
    "5 x 1 = 5\n",
    "5 x 2 = 10\n",
    "5 x 3 = 15\n",
    ".\n",
    ".\n",
    ".\n",
    "10 x 1 = 10\n",
    "10 x 2 = 20\n",
    "10 x 3 = 30\n",
    ".\n",
    ".\n",
    ".\n",
    "10 x 10 = 100\n",
    "\n",
    "```"
   ]
  },
  {
   "cell_type": "code",
   "execution_count": null,
   "id": "549ddb91",
   "metadata": {},
   "outputs": [],
   "source": [
    "# Use this cell for your solution to Practice Program 4.5\n",
    "# +++++++++++++++++++++++++++++++++++++++++++++++++++++++\n",
    "\n",
    "\n"
   ]
  },
  {
   "cell_type": "code",
   "execution_count": null,
   "id": "bab39247",
   "metadata": {
    "jupyter": {
     "source_hidden": true
    },
    "tags": []
   },
   "outputs": [],
   "source": [
    "# This is one possible solution for Practice Program 4.5\n",
    "# ++++++++++++++++++++++++++++++++++++++++++++++++++++++\n",
    "\n",
    "for i in range(1,11): #Remember that the upper limit specified is not generated. So, for 10, we have to specify 11\n",
    "    for j in range(1,11):\n",
    "        res = i * j\n",
    "        print(i, \" x \", j, \" = \", res)"
   ]
  },
  {
   "cell_type": "markdown",
   "id": "d3780c2d",
   "metadata": {
    "tags": []
   },
   "source": [
    "---\n",
    "## Practice Program 4.6 - Nested Loops for Nested Lists\n",
    "\n",
    "In the last to last practice program you iterated through the elements of a list in order to calculate the mean of those elements. If the elements contained within a list happen to be sequences (strings, lists, etc.) then you can iterate through each of those elements as well. This requires a nested loop.\n",
    "\n",
    "**For example:**\n",
    "\n",
    "```\n",
    ">>> list_of_lists = [[\"a\", \"b\", \"c\"], [1, 2, 3], \"hello\"]\n",
    "\n",
    "    for i in list_of_lists:\n",
    "        print(i)\n",
    "        for j in i:\n",
    "            print(j)\n",
    "\n",
    "['a', 'b', 'c']\n",
    "a\n",
    "b\n",
    "c\n",
    "[1, 2, 3]\n",
    "1\n",
    "2\n",
    "3\n",
    "hello\n",
    "h\n",
    "e\n",
    "l\n",
    "l\n",
    "o\n",
    "```\n",
    "In this example, the parent loop (`for i in list_of_lists:`) assigns each list element to `i`, prints `i`, and then uses a nested loop to iterate through the elements within `i`. That nested loop (`for j in i:`) assigns each element within `i` to `j`, and then prints `j`.\n",
    "\n",
    "In the cell below you have been provided with some temperature data. The data is in the format of a list of lists, where each sublist is one year's monthly mean temperatures (°C). Sublist 1 contains 2001's monthly mean temperatures, sublist 2 contains 2002's, etc. Each sublist starts with the mean temperature for January and finishes with the mean for December (i.e. `[Jan avg temp, Feb avg temp, ..., Dec avg temp]`\n",
    "\n",
    "### For this practice program please create a simple Python program that will:\n",
    "- Iterate through the list of yearly data\n",
    "- Use a nested loop to iterate over each year's data\n",
    "- Determine the average temperature for each year and print them\n",
    "\n",
    "### Expected Output:\n",
    "```\n",
    "7.9\n",
    "7.3\n",
    "6.3\n",
    "6.3\n",
    "7.3\n",
    "```\n",
    "\n",
    "### Tips / Notes:\n",
    "- Using descriptive variable names for the iterator variables can help you to understand the structure of the nested for loops. For example:\n",
    "    ```\n",
    "    for year in temp_data:\n",
    "        for monthly_temp in year:\n",
    "    ```\n",
    "- Within the nested loop, use the same method for calculating the mean that you used in Practice Program 4.3."
   ]
  },
  {
   "cell_type": "code",
   "execution_count": null,
   "id": "61b504c6",
   "metadata": {},
   "outputs": [],
   "source": [
    "# Use this cell for your solution to Practice Program 4.6\n",
    "# +++++++++++++++++++++++++++++++++++++++++++++++++++++++\n",
    "\n",
    "# Ottawa's monthly (Jan - Dec) average temperature in degrees Celcius from 2001 to 2005\n",
    "temp_data = [[-9.2, -8.7, -2.8, 7.0, 14.8, 19.9, 20.3, 22.6, 16.6, 10.0, 5.2, -0.7],\n",
    "[-4.3, -5.9, -2.6, 7.1, 11.5, 17.5, 22.1, 21.2, 18.1, 7.9, 0.8, -5.4],\n",
    "[-12.6, -11.2, -3.4, 4.3, 13.5, 19.0, 21.0, 21.5, 17.2, 7.6, 2.8, -4.4],\n",
    "[-14.7, -7.3, 0.5, 6.3, 13.6, 17.6, 20.8, 18.9, 16.7, 9.2, 2.4, -8.1],\n",
    "[-11.5, -6.7, -3.3, 7.3, 11.7, 21.4, 22.6, 21.7, 17.7, 10.1, 2.8, -5.7]]\n",
    "\n",
    "\n"
   ]
  },
  {
   "cell_type": "markdown",
   "id": "cf33a304",
   "metadata": {},
   "source": [
    "**Click on the three dots `...` below to reveal a possible solution**"
   ]
  },
  {
   "cell_type": "code",
   "execution_count": 1,
   "id": "cbc6d5e3",
   "metadata": {
    "jupyter": {
     "source_hidden": true
    },
    "tags": []
   },
   "outputs": [
    {
     "name": "stdout",
     "output_type": "stream",
     "text": [
      "7.9\n",
      "7.3\n",
      "6.3\n",
      "6.3\n",
      "7.3\n"
     ]
    }
   ],
   "source": [
    "# This is one possible solution for Practice Program 4.6\n",
    "# ++++++++++++++++++++++++++++++++++++++++++++++++++++++\n",
    "\n",
    "# Ottawa's monthly (Jan - Dec) average temperature in degrees Celcius from 2001 to 2005\n",
    "temp_data = [[-9.2, -8.7, -2.8, 7.0, 14.8, 19.9, 20.3, 22.6, 16.6, 10.0, 5.2, -0.7],\n",
    "[-4.3, -5.9, -2.6, 7.1, 11.5, 17.5, 22.1, 21.2, 18.1, 7.9, 0.8, -5.4],\n",
    "[-12.6, -11.2, -3.4, 4.3, 13.5, 19.0, 21.0, 21.5, 17.2, 7.6, 2.8, -4.4],\n",
    "[-14.7, -7.3, 0.5, 6.3, 13.6, 17.6, 20.8, 18.9, 16.7, 9.2, 2.4, -8.1],\n",
    "[-11.5, -6.7, -3.3, 7.3, 11.7, 21.4, 22.6, 21.7, 17.7, 10.1, 2.8, -5.7]]\n",
    "\n",
    "# Iterate through the years\n",
    "for year in temp_data:\n",
    "    \n",
    "    # Initialize the sum (for determining the average) before iterating through each month\n",
    "    sum_temp = 0\n",
    "    \n",
    "    # Iterate over the monthly average temps contained in each year\n",
    "    for monthly_temp in year:\n",
    "        \n",
    "        # Update the sum by adding the monthly average temp to it\n",
    "        sum_temp = sum_temp + monthly_temp\n",
    "\n",
    "    # Calculate and print the mean montly temp of the year being iterated over\n",
    "    mean_temp = round(sum_temp / len(year), 1)\n",
    "    print(mean_temp)\n",
    "    "
   ]
  },
  {
   "cell_type": "markdown",
   "id": "098e852c",
   "metadata": {
    "tags": []
   },
   "source": [
    "An alternative solution involves using some built in functions. Instead of using a nested loop to iterate over  the months of the years, we can simply pass each year to the `min()`, `max()`, and `mean()` functions.\n",
    "\n",
    "`min()` and `max()` are built-in functions so we don't need to import any modules. `mean()` is a function of the `statistics` module so you'll need to `import statistics` before calling the `mean()` function.\n",
    "\n"
   ]
  },
  {
   "cell_type": "markdown",
   "id": "02c38bc3",
   "metadata": {},
   "source": [
    "**Click on the three dots `...` below to reveal this alternative possible solution**"
   ]
  },
  {
   "cell_type": "code",
   "execution_count": null,
   "id": "3561e675",
   "metadata": {
    "jupyter": {
     "source_hidden": true
    },
    "tags": []
   },
   "outputs": [],
   "source": [
    "# This is another possible solution for Practice Program 4.6\n",
    "# It includes more statistics and no nested looping\n",
    "# ++++++++++++++++++++++++++++++++++++++++++++++++++++++++++\n",
    "\n",
    "import statistics\n",
    "\n",
    "# Ottawa's monthly (Jan - Dec) average temperature (°C) from 2001 to 2005\n",
    "temp_data = [[-9.2, -8.7, -2.8, 7.0, 14.8, 19.9, 20.3, 22.6, 16.6, 10.0, 5.2, -0.7],\n",
    "[-4.3, -5.9, -2.6, 7.1, 11.5, 17.5, 22.1, 21.2, 18.1, 7.9, 0.8, -5.4],\n",
    "[-12.6, -11.2, -3.4, 4.3, 13.5, 19.0, 21.0, 21.5, 17.2, 7.6, 2.8, -4.4],\n",
    "[-14.7, -7.3, 0.5, 6.3, 13.6, 17.6, 20.8, 18.9, 16.7, 9.2, 2.4, -8.1],\n",
    "[-11.5, -6.7, -3.3, 7.3, 11.7, 21.4, 22.6, 21.7, 17.7, 10.1, 2.8, -5.7]]\n",
    "\n",
    "year_counter = 0\n",
    "\n",
    "for year in temp_data:\n",
    "\n",
    "    min_temp = min(year)\n",
    "    max_temp = max(year)\n",
    "    mean_temp = statistics.mean(year)\n",
    "        \n",
    "    print(2001 + year_counter)\n",
    "    print(\"Mean    (°C):\", round(mean_temp, 1))\n",
    "    print(\"Minimum (°C):\", min_temp)\n",
    "    print(\"Maximum (°C):\", max_temp)\n",
    "    print(\"Range   (°C):\", max_temp - min_temp)\n",
    "    print()\n",
    "    year_counter += 1\n"
   ]
  },
  {
   "cell_type": "markdown",
   "id": "3f501f77",
   "metadata": {
    "tags": []
   },
   "source": [
    "---\n",
    "# Practice Program 4.7 - Creating A New List Based On Data From Another List\n",
    "\n",
    "\n",
    "\n",
    "In this practice program you will iterate over a list containing observations of the concentration of salt in water (parts per million - ppm) and convert that integer data to a nominal scale. The USGS uses the following nominal scale to describe salt water concentration:\n",
    "\n",
    "- Fresh water : Less than 1,000 ppm (< 1000)\n",
    "- Slightly saline water : From 1,000 ppm to 3,000 ppm (>= 1000 and < 3000)\n",
    "- Moderately saline water : From 3,000 ppm to 10,000 ppm (>= 3000 and < 10000)\n",
    "- Highly saline water : From 10,000 ppm to 35,000 ppm (>= 10000 and < 35000)\n",
    "\n",
    "## For this practice program please create a simple Python program that will:\n",
    "- Create a new blank list to hold the nominal scale data\n",
    "- Use a for loop to iterate over the list of salt water concentration observations that has been provided in the cell below\n",
    "- Use conditional statements in the loop to create a new list that represents the observations but in the nominal scale\n",
    "- Print the new list\n",
    "\n",
    "## Expected Output:\n",
    "\n",
    "```\n",
    "['Moderately saline water', 'Highly saline water', 'Slightly saline water', 'Moderately saline water', 'Highly saline water', 'Moderately saline water', 'Highly saline water', 'Fresh water', 'Slightly saline water']\n",
    "```\n",
    "\n",
    "## Tips / Notes:\n",
    "- Initialize a new blank list before entering the for loop. E.g. `my_list = []`\n",
    "- Use the `append()` list method to add the appropriate nominal scale string to the new list (e.g. `my_list.append(\"Moderately saline water\")`)\n",
    "    - Wait, what is a \"method\"? Methods are a type of function that are called onto an object using a `.`. So `my_list.append(\"Moderately saline water\")` will append `\"Moderately saline water\"` to the `my_list` list.\n",
    "    - To get more info on how `append()` works read about it here: [W3Schools - Python List append() Method](https://www.w3schools.com/python/ref_list_append.asp)"
   ]
  },
  {
   "cell_type": "code",
   "execution_count": null,
   "id": "3908c134",
   "metadata": {},
   "outputs": [],
   "source": [
    "# Use this cell for your solution to Practice Program 4.7\n",
    "# +++++++++++++++++++++++++++++++++++++++++++++++++++++++\n",
    "\n",
    "# The USGS scale of salt water concentration\n",
    "\"\"\"\n",
    "\"Fresh water\" : Less than 1,000 ppm\n",
    "\"Slightly saline water\" : From 1,000 ppm to 3,000 ppm\n",
    "\"Moderately saline water\" : From 3,000 ppm to 10,000 ppm\n",
    "\"Highly saline water\" : From 10,000 ppm to 35,000 ppm\n",
    "\"\"\"\n",
    "\n",
    "# The salt water concentration data\n",
    "salts_ppm = [4681, 34276, 1722, 6771, 34934, 11525, 4366, 10432, 987, 1385]\n",
    "\n",
    "\n"
   ]
  },
  {
   "cell_type": "markdown",
   "id": "07fe4808",
   "metadata": {},
   "source": [
    "**Click on the three dots `...` below to reveal a possible solution**"
   ]
  },
  {
   "cell_type": "code",
   "execution_count": null,
   "id": "3660fd3c",
   "metadata": {
    "jupyter": {
     "source_hidden": true
    },
    "tags": []
   },
   "outputs": [],
   "source": [
    "# This is one possible solution for Practice Program 4.7\n",
    "# ++++++++++++++++++++++++++++++++++++++++++++++++++++++\n",
    "\n",
    "# The USGS scale of salt water concentration\n",
    "\"\"\"\n",
    "\"Fresh water\" : Less than 1,000 ppm\n",
    "\"Slightly saline water\" : From 1,000 ppm to 3,000 ppm\n",
    "\"Moderately saline water\" : From 3,000 ppm to 10,000 ppm\n",
    "\"Highly saline water\" : From 10,000 ppm to 35,000 ppm\n",
    "\"\"\"\n",
    "\n",
    "# Initialize a new blank list to hold the data in the nominal scale\n",
    "salts_ppm = [4681, 34276, 1722, 6771, 34934, 11525, 4366, 10432, 987, 1385]\n",
    "salts_nominal = []\n",
    "\n",
    "# Use a for loop and conditions to append the appropriate nominal values to the new list\n",
    "for obersvation in salts_ppm:\n",
    "    \n",
    "    if i < 1000:\n",
    "        salts_nominal.append(\"Fresh water\")\n",
    "        \n",
    "    elif i >= 1000 and int(i) < 3000:\n",
    "        salts_nominal.append(\"Slightly saline water\")\n",
    "        \n",
    "    elif i >= 3000 and int(i) < 10000:\n",
    "        salts_nominal.append(\"Moderately saline water\")\n",
    "        \n",
    "    elif i >= 10000 and int(i) < 35000:\n",
    "        salts_nominal.append(\"Highly saline water\")\n",
    "\n",
    "# Print the list of nominal salt water concentrations\n",
    "print(salts_nominal)"
   ]
  },
  {
   "cell_type": "markdown",
   "id": "a45b1ee6",
   "metadata": {
    "tags": []
   },
   "source": [
    "---\n",
    "# Practice Program 4.8  - Modifying An Existing List\n",
    "\n",
    "Lists are mutable, meaning they can be changed, so we can use a loop to iterate through a list and modify each of the values. For this practice program we'll look at a set of temperature observations that have been provided in degrees Celcius. The values in the list need to be converted to Kelvin and the average temperature, in Kelvin, needs to be determined.\n",
    "\n",
    "$ T_K = T_C + 273.15 $\n",
    "\n",
    "Where:\n",
    "- $T_K$ is the temperature in Kelvin\n",
    "- $T_C$ is the temperature in degrees Celcius\n",
    "\n",
    "\n",
    "### For this practice program please create a simple Python program that will:\n",
    "- Iterate over the list of data that has been provided\n",
    "- Convert the values from degrees Celcius to Kelvin with a precision of 2 decimal places\n",
    "- Print the converted list\n",
    "- Print the average temperature in Kelvin\n",
    "\n",
    "### Expected Output\n",
    "```\n",
    "[298.75, 264.54, 275.74, 252.78, 254.61, 283.4, 244.86, 259.14, 283.32, 259.8]\n",
    "Average temperature in Kelvin: 268\n",
    "```\n",
    "\n",
    "### Notes / Tips:\n",
    "- To replace a value in a list we need to refer to its index. This means that we won't be iterating through the list directly, instead we need to iterate through a range of numbers and use each of those numbers as the index to the appropriate list value\n",
    "\n"
   ]
  },
  {
   "cell_type": "code",
   "execution_count": null,
   "id": "139d6276-c796-4cf4-8577-373ee556621e",
   "metadata": {},
   "outputs": [],
   "source": [
    "# Use this cell for your solution to Practice Program 4.8\n",
    "# +++++++++++++++++++++++++++++++++++++++++++++++++++++++\n",
    "\n",
    "\n"
   ]
  },
  {
   "cell_type": "markdown",
   "id": "2adbe41c-f0c6-48bc-a983-b56717215795",
   "metadata": {},
   "source": [
    "**Click on the three dots `...` below to reveal possible solutions**"
   ]
  },
  {
   "cell_type": "code",
   "execution_count": null,
   "id": "5a5d20f9",
   "metadata": {
    "jupyter": {
     "source_hidden": true
    },
    "tags": []
   },
   "outputs": [],
   "source": [
    "# Use this cell for Practice Program 4.8\n",
    "#++++++++++++++++++++++++++++++++++++++-\n",
    "\n",
    "\n",
    "temp_data = [25.6, -8.61, 2.59, -20.37, -18.54, 10.25, -28.29, -14.01, 10.17, -13.35]\n",
    "temp_sum = 0\n",
    "\n",
    "for index in range(0, len(temp_data)):\n",
    "    temp_data[index] = round(temp_data[index] + 273.15, 2) #First convert to kelvin, then round to 2 decimals. Can be broken down to multiple steps\n",
    "    temp_sum = temp_sum + temp_data[index]\n",
    "\n",
    "print(temp_data)\n",
    "print(\"Average temperature in Kelvin:\", round(temp_sum/len(temp_data)))\n"
   ]
  },
  {
   "cell_type": "code",
   "execution_count": null,
   "id": "53b51c2c",
   "metadata": {
    "jupyter": {
     "source_hidden": true
    },
    "tags": []
   },
   "outputs": [],
   "source": [
    "# Another recommended solution for Practice Program 4.8\n",
    "#+++++++++++++++++++++++++++++++++++++++++++++++++++++-\n",
    "\n",
    "temp_data = [25.6, -8.61, 2.59, -20.37, -18.54, 10.25, -28.29, -14.01, 10.17, -13.35]\n",
    "temp_sum = 0\n",
    "temp_kel = []\n",
    "\n",
    "for temp in temp_data:\n",
    "    kel = round(temp + 273.15, 2) #First convert to kelvin, then round to 2 decimals\n",
    "    temp_kel.append(kel) #Add (append) to new list\n",
    "    temp_sum = temp_sum + kel\n",
    "\n",
    "print(temp_kel)\n",
    "print(\"Average temperature in Kelvin:\", round(temp_sum/len(temp_kel)))\n"
   ]
  },
  {
   "cell_type": "markdown",
   "id": "b8e06a39",
   "metadata": {},
   "source": [
    "***Bonus***\n",
    "\n",
    "Can you modify the above program, such that another list is created with the values 'hot', 'cold', 'mild' if the temperature is below or above certain thresholds of your choosing? <br>\n",
    "You will need to use conditional statements (if-else) inside the for loop."
   ]
  }
 ],
 "metadata": {
  "interpreter": {
   "hash": "5875671afb0eb6cb2d095c96bf2af53a7992f20ad2149cef93d9c290f117517e"
  },
  "kernelspec": {
   "display_name": "Python 3 (ipykernel)",
   "language": "python",
   "name": "python3"
  },
  "language_info": {
   "codemirror_mode": {
    "name": "ipython",
    "version": 3
   },
   "file_extension": ".py",
   "mimetype": "text/x-python",
   "name": "python",
   "nbconvert_exporter": "python",
   "pygments_lexer": "ipython3",
   "version": "3.8.12"
  }
 },
 "nbformat": 4,
 "nbformat_minor": 5
}
