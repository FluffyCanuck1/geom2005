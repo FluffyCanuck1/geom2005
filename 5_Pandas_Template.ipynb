{
 "cells": [
  {
   "cell_type": "markdown",
   "metadata": {},
   "source": [
    "## Prepare the data\n",
    "1. Download the data from Brighpsace.\n",
    "2. Unzip/Decompress the data.\n",
    "3. Make sure that the folder/directory containing the data is anemd 'PandasDataset'\n",
    "4. Make sure that the aforementioned folder is in the same directory/folder as the notebook (.ipynb) file.\n",
    "\n",
    "Inside the folder 'PandasDataset', you will see that there are several csv files. Each csv file contains data for a ceratin time period.\n",
    "\n",
    "The following cells reads the data from the different csv files and combines them into one large pandas dataframe which you will use to answer the questions.\n",
    "\n",
    "Try to undestand the code on how the files are read and prepared. The code below is quite involved as it ensures that it works on every platform (Windows/MacOS/Linux)."
   ]
  },
  {
   "cell_type": "code",
   "execution_count": null,
   "metadata": {},
   "outputs": [],
   "source": [
    "import pandas as pd\n",
    "import glob\n",
    "import os"
   ]
  },
  {
   "cell_type": "code",
   "execution_count": null,
   "metadata": {},
   "outputs": [],
   "source": [
    "#Increae plot size throughout this notebook\n",
    "import matplotlib.pyplot as plt\n",
    "plt.rcParams[\"figure.figsize\"] = 10, 10\n",
    "%matplotlib inline"
   ]
  },
  {
   "cell_type": "markdown",
   "metadata": {},
   "source": [
    "### Read all the csv files and concatenate into a single dataframe\n",
    "Since the dataset is big, this might take some time"
   ]
  },
  {
   "cell_type": "code",
   "execution_count": null,
   "metadata": {},
   "outputs": [],
   "source": [
    "folder_name = 'PandasDataset'  #Folder name where the csv files are stored. Should be in a sub directory beneath .pynb. Make sure the name of the folder is spelled correctly\n",
    "wd = os.getcwd() #Get current directory\n",
    "path =  os.path.join (wd, folder_name) #OS agnostic way of creating path.\n",
    "all_files = glob.glob(os.path.join(path, \"*.csv\"))\n",
    "\n",
    "df_lst = []\n",
    "for filename in all_files:\n",
    "    df_lst.append(pd.read_csv(filename)) #Create a list\n",
    "\n",
    "# Concatenate all data into one DataFrame\n",
    "df = pd.concat(df_lst, ignore_index=True)  #Concatenate into single data frame"
   ]
  },
  {
   "cell_type": "markdown",
   "metadata": {},
   "source": [
    "### Explore and Clean Data"
   ]
  },
  {
   "cell_type": "code",
   "execution_count": null,
   "metadata": {},
   "outputs": [],
   "source": [
    "print(df) "
   ]
  },
  {
   "cell_type": "markdown",
   "metadata": {},
   "source": [
    "Note that there are lots of NotaNumber (NaN) in `remaining_lease`. <br>\n",
    "Also, month column should be year_month. <br>\n",
    "It would be good to seperate year and month to seperate columns. <br>\n",
    "Additionally values are in year, month format. This is a string and hard to work with (see below)."
   ]
  },
  {
   "cell_type": "code",
   "execution_count": null,
   "metadata": {},
   "outputs": [],
   "source": [
    "print(df.remaining_lease.unique()) #Ensure that even though there are few NaN's, the column actually contains some values"
   ]
  },
  {
   "cell_type": "code",
   "execution_count": null,
   "metadata": {},
   "outputs": [],
   "source": [
    "df['remaining_lease'] = df['remaining_lease'].fillna(0)  #Change missing lease remaining to 0\n",
    "df = df.rename(columns={\"month\": \"year_month\"})\n",
    "df[['year','month']] = df['year_month'].str.split('-',expand=True) #Split the string on \"-\" and put the results in 2 new columns\n",
    "df['year'] = df['year'].astype('int') #Convert to int\n",
    "df['month'] = df['month'].astype('int')"
   ]
  },
  {
   "cell_type": "markdown",
   "metadata": {},
   "source": [
    "Even though we filled the missing numbers in `lease_remaining` with 0, it is not ideal. <br>\n",
    "We can do better. <br>\n",
    "In Singapore, original leases are usually for 99 years. So, let's try to get a better estimate of remaining lease"
   ]
  },
  {
   "cell_type": "code",
   "execution_count": null,
   "metadata": {},
   "outputs": [],
   "source": [
    "df['remaining_lease_year'] = 99 - (df['year'] - df['lease_commence_date']) #i.e 99 years - time_elapsed\n",
    "#Check whether estimate matches up to existing data\n",
    "df[df['remaining_lease']!=0] #Select columns where remaining_lease data is present in the original data and see how it compares to computeed column remaining_lease_year.\n"
   ]
  },
  {
   "cell_type": "markdown",
   "metadata": {},
   "source": [
    "Some apartments seem to be sold before they are completed, resulting in more than 99 years remaining on lease <br>\n",
    "We can force these specific entries to be 99. But, since they are so few, we will leave them as is for now."
   ]
  },
  {
   "cell_type": "code",
   "execution_count": null,
   "metadata": {},
   "outputs": [],
   "source": [
    "#Percent of entries having more than 99 years of lease left\n",
    "len(df[df['remaining_lease_year']>99])*100/len(df) "
   ]
  },
  {
   "cell_type": "markdown",
   "metadata": {},
   "source": [
    "In addition to estimating missing data, we now have a numeric column which is easier to work with. <br>\n",
    "Remove the `remaining_lease` column"
   ]
  },
  {
   "cell_type": "code",
   "execution_count": null,
   "metadata": {},
   "outputs": [],
   "source": [
    "del df['remaining_lease']"
   ]
  },
  {
   "cell_type": "markdown",
   "metadata": {},
   "source": [
    "### Analysis"
   ]
  },
  {
   "cell_type": "markdown",
   "metadata": {},
   "source": [
    "#### How many sales occured in each year? (1 point)\n",
    "Remember that each row in the table corresponds to a single sale. Remeber that you can `groupby` columns and then aggregate using either `size`, or `count`. In this case `size` may produce an output that is easier to understand.\n"
   ]
  },
  {
   "cell_type": "code",
   "execution_count": null,
   "metadata": {},
   "outputs": [],
   "source": [
    "#Write your code here\n"
   ]
  },
  {
   "cell_type": "markdown",
   "metadata": {},
   "source": [
    "#### Create a line graph out of the output (1 point)"
   ]
  },
  {
   "cell_type": "code",
   "execution_count": null,
   "metadata": {},
   "outputs": [],
   "source": [
    "#Your code here\n"
   ]
  },
  {
   "cell_type": "markdown",
   "metadata": {},
   "source": [
    "#### Which year had the highest number of sales? (2 point)\n",
    "Add `.reset_index(name='total')` at the end of your code to give a name to the count column.<br>\n",
    "Assign the entire result to a new variable. \n",
    "This new variable is a dataframe which you can use to answer the question. <br>\n",
    "Answering this will be akin to creating a subset where you are selecting all rows in which the maximum count is present. <br>\n",
    "For the answer, just extract the year column\n",
    "\n",
    "<b>The output should be just the year (it is fine if index number and datatype is displayed."
   ]
  },
  {
   "cell_type": "code",
   "execution_count": null,
   "metadata": {},
   "outputs": [],
   "source": [
    "#Your cide here\n"
   ]
  },
  {
   "cell_type": "markdown",
   "metadata": {},
   "source": [
    "#### Plot a line to show the trend of the average selling price per year. (1 point)\n",
    "Adding mean after group by finds the mean across all columns. So, before plotting, extract only the column of interest"
   ]
  },
  {
   "cell_type": "code",
   "execution_count": null,
   "metadata": {},
   "outputs": [],
   "source": [
    "#Your code here\n"
   ]
  },
  {
   "cell_type": "markdown",
   "metadata": {},
   "source": [
    "#### What is the mean floor area by flat type? (1 point)\n",
    "Note, this time, you need to select 2 columns instead of one for the answer <br>\n",
    "After mean, use `reset_index()` before selecting the 2 columns of interest <br><br>\n",
    "Note that there maybe many ways of getting the same output"
   ]
  },
  {
   "cell_type": "code",
   "execution_count": null,
   "metadata": {},
   "outputs": [],
   "source": [
    "#Your code here\n"
   ]
  },
  {
   "cell_type": "markdown",
   "metadata": {},
   "source": [
    "#### Does the price change with time left on lease? Use a plot to investigate. (1 points)\n",
    "#### First, change entries that have more than 99 years left on lease to 99 (1 point)"
   ]
  },
  {
   "cell_type": "code",
   "execution_count": null,
   "metadata": {},
   "outputs": [],
   "source": [
    "#Code for reassignment\n"
   ]
  },
  {
   "cell_type": "code",
   "execution_count": null,
   "metadata": {},
   "outputs": [],
   "source": [
    "#Code for plotting\n"
   ]
  },
  {
   "cell_type": "markdown",
   "metadata": {},
   "source": [
    "#### Now, recreate the same plot according to flat type and time remaining on lease (2 points)\n",
    "You need to create a table and a plot this time. <br>\n",
    "Note that you have one categorical variable and a continuous (numeric) variable. <br>\n",
    "The correct order of grouping will produce a table which is easier to interpret"
   ]
  },
  {
   "cell_type": "code",
   "execution_count": 1,
   "metadata": {},
   "outputs": [],
   "source": [
    "#Code here for table\n"
   ]
  },
  {
   "cell_type": "code",
   "execution_count": null,
   "metadata": {},
   "outputs": [],
   "source": [
    "#Plotting code\n"
   ]
  }
 ],
 "metadata": {
  "interpreter": {
   "hash": "5875671afb0eb6cb2d095c96bf2af53a7992f20ad2149cef93d9c290f117517e"
  },
  "kernelspec": {
   "display_name": "Python 3 (ipykernel)",
   "language": "python",
   "name": "python3"
  },
  "language_info": {
   "codemirror_mode": {
    "name": "ipython",
    "version": 3
   },
   "file_extension": ".py",
   "mimetype": "text/x-python",
   "name": "python",
   "nbconvert_exporter": "python",
   "pygments_lexer": "ipython3",
   "version": "3.8.12"
  }
 },
 "nbformat": 4,
 "nbformat_minor": 4
}
