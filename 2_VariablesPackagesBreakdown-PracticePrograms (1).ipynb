{
 "cells": [
  {
   "cell_type": "markdown",
   "id": "4935447f",
   "metadata": {},
   "source": [
    "# Lecture 2 - Practice Programs"
   ]
  },
  {
   "cell_type": "markdown",
   "id": "a6f07184",
   "metadata": {},
   "source": [
    "---\n",
    "# Practice Program 2.1 (Lecture) - Volume and Surface Area of a Cylinder\n",
    "\n",
    "*This practice program appears in the lecture slides. It has been included here so that you can see how the Python syntax of this example works.*\n",
    "\n",
    "**The volume of a cylinder can be found using the following formula:**\n",
    "\n",
    "$ V_C = πr^2h $\n",
    "\n",
    "Where:\n",
    "- $V_C$ is equal to the volume\n",
    "- $r$ is equal to the radius\n",
    "- $h$ is equal to the height\n",
    "\n",
    "**The surface area of a cylinder can be found using the following formula:**\n",
    "\n",
    "$ S_C = 2πrh $\n",
    "\n",
    "Where:\n",
    "- $S_C$ is equal to the surface area\n",
    "- $r$ is equal to the radius\n",
    "- $h$ is equal to the height\n",
    "\n",
    "### For this practice program please create a simple Python script that will:\n",
    "1. Ask the user to input the radius and height of the cylinder\n",
    "2. Save those values to variables (with appropriate names)\n",
    "3. Perform the required calculation\n",
    "4. Output the volume and surface area"
   ]
  },
  {
   "cell_type": "code",
   "execution_count": null,
   "id": "8475121f-c5c1-4965-85c0-1e7587f663ee",
   "metadata": {},
   "outputs": [],
   "source": [
    "# The code for this practice program was covered in the lecture slides\n",
    "# It is included here so you can see how it works in a live environment\n",
    "# +++++++++++++++++++++++++++++++++++++++++++++++++++++++++++++++++++++\n",
    "\n",
    "# Import the math package\n",
    "import math\n",
    "\n",
    "# Print a header statement\n",
    "print(\"Calculate the Volume and Surface Area of a Cylinder\")\n",
    "\n",
    "# Ask the user to input the radius and the height of the cylinder\n",
    "r = float(input(\"Enter the radius: \"))\n",
    "h = float(input(\"Enter the height: \"))\n",
    "\n",
    "# Calculate the volume and print the result\n",
    "v = math.pi * math.pow(r, 2) * h\n",
    "print(\"Volume of cylinder is:\", v)\n",
    "\n",
    "# Calculate the surface area and print the result\n",
    "s_area = 2 * math.pi * r * h\n",
    "print(\"Surface area of cylinder is: \", s_area)"
   ]
  },
  {
   "cell_type": "markdown",
   "id": "9a76026d-e346-48f0-a079-6216c0ec3cbd",
   "metadata": {},
   "source": [
    "---\n",
    "# Common Error(s)\n",
    "Before starting to code, here are a couple of things that may result in errors. Keeping these in mind can help you avoid errors and rectify errors."
   ]
  },
  {
   "cell_type": "markdown",
   "id": "e5dfe98c-3477-4407-83f0-6155134e590e",
   "metadata": {},
   "source": [
    "## Variable Naming rules\n",
    "\n",
    "- A variable name must start with a letter or the underscore character\n",
    "- A variable name cannot start with a number\n",
    "- A variable name can only contain alpha-numeric characters and underscores (A-z, 0-9, and _ )\n",
    "- Variable names are case-sensitive (age, Age and AGE are three different variables)\n",
    "\n",
    "It is a good practise to create variables names that are descriptive. Thus, when you are trying to save the sum of two numbers, it is a good practise to name the variable *sum_result*.\n",
    "\n",
    "If your variable name violates the rules, you will get a **Syntax Error**. Syntax errors occur when you are trying to execute a a sequence of characters that Python does not understand. Thus, Syntax Errors are one of the more common errors returned. Try running the following code to generate a Syntax Error because of an incorrect variable name:\n"
   ]
  },
  {
   "cell_type": "code",
   "execution_count": null,
   "id": "8173d273-3345-4faa-9178-761bf0aaf3af",
   "metadata": {},
   "outputs": [],
   "source": [
    "8apples = 12"
   ]
  },
  {
   "cell_type": "markdown",
   "id": "f3e8d1ed-37ef-4cc6-a22b-be20dca9d1cc",
   "metadata": {},
   "source": [
    "This causes a Syntax Error as a variable cannot start with a number, thus it is a sequence of characaters uknown to Python. Can you try and create a few variable names that obbey the rules.\n",
    "\n",
    "*Remember*: While Python can stop you from creating varaiable names it does not understand, it cannot check whether the names are descriptive enough to make sense for a human. Thus, when you are trying to save the sum of two numbers, you can name the variable *x* without an issue, but it will make it harded for you to remember what *x* is, specially if the code is long. So, it is a good practise to name the variable *sum_result*."
   ]
  },
  {
   "cell_type": "markdown",
   "id": "2aa68e21-1e6a-457f-bbdb-998d2dadc4f9",
   "metadata": {},
   "source": [
    "## Name Error\n",
    "Python is **Case Sensitive**. So, when you create variables, you need to be consistent in using upper and lowercase letters when you want to refer to the same variable.\n",
    "\n",
    "In the below code, the variables *apple* and *Apple* refer to two different things. Thus, even though you assign the value of 5 to *apple*, when you try to get the value back by printing you get an error as you have typed *Apple*."
   ]
  },
  {
   "cell_type": "code",
   "execution_count": null,
   "id": "53afd5ea-eb93-41e6-992b-0bc6a6516348",
   "metadata": {},
   "outputs": [],
   "source": [
    "apple = 5\n",
    "print(Apple)"
   ]
  },
  {
   "cell_type": "markdown",
   "id": "94ce796b-a204-4d38-b63c-69e02c9f5819",
   "metadata": {},
   "source": [
    "In the above scenario, *Apple* did not exist, so we got an error. But, what happens if we had another variable called *Apple*?"
   ]
  },
  {
   "cell_type": "code",
   "execution_count": null,
   "id": "0eb4eb51-181c-4733-90be-42034568dda9",
   "metadata": {},
   "outputs": [],
   "source": [
    "apple = 5\n",
    "Apple = 10\n",
    "print(Apple)"
   ]
  },
  {
   "cell_type": "markdown",
   "id": "3cef61a5-3cc8-4271-b620-2ad384d89466",
   "metadata": {},
   "source": [
    "This time, we get an output and not an error. But, it is confusing as the two apples (with and without caps) refer to two differemt variables. Thus, to avoid confusion, it is best to avoid variable names that are too similar."
   ]
  },
  {
   "cell_type": "markdown",
   "id": "c9f2fa80-cb13-45e1-9734-27bc01a49cb3",
   "metadata": {},
   "source": [
    "# Missing brackets\n",
    "Everytime a bracket is opened, it needs to be closed. Otherwise, you will get varios errors (depending on the context). This error is further compunded when you have nested brackets. All the brackets that were opened need to be closed in the correct order.\n",
    "\n",
    "Try running the following code. It will give you an error. Try and fix the error."
   ]
  },
  {
   "cell_type": "code",
   "execution_count": null,
   "id": "c4814c45-7719-4f3f-88ee-220c722405bb",
   "metadata": {},
   "outputs": [],
   "source": [
    "print(apple"
   ]
  },
  {
   "cell_type": "markdown",
   "id": "b3aaf583-7f0b-4720-8de2-fa4bf235b27f",
   "metadata": {},
   "source": [
    "Once you have fixed the error and have run the code, you will get a value of `5`. \n",
    "\n",
    "Where did this `5` come from?\n",
    "Ans: If you look at the code cell you had executed before. You will see that you had set the value of the variable *apple* to `5`. Thus, the result. Once you have run the code, its effects (e.g. setting variable values) persist throughout the notebook."
   ]
  },
  {
   "cell_type": "markdown",
   "id": "856da099",
   "metadata": {},
   "source": [
    "---\n",
    "# Practice Program 2.2 - Flattening Ratio\n",
    "\n",
    "For our very first practice program we are going to write a little script to calculate Earth's polar flattening. As you likely know, Earth more closely resembles an  oblate ellipsoid than a sphere. Due to Earth's rotation, its semimajor axis (equator to equator, through the center of Earth's mass) is larger than its semiminor axis (pole to pole, through the center of Earth's mass). See this Esri help page for more info and diagrams: [Spheroids and spheres](http://webhelp.esri.com/arcgisdesktop/9.2/index.cfm?TopicName=Spheroids_and_spheres). To calculate the amount of flattening of an ellipsoid we can use the following simple formula:\n",
    "\n",
    "\n",
    "$f=\\frac{(a-b)}{a}$\n",
    "\n",
    "\n",
    "Where:\n",
    "- $f$ is the amount of flattening\n",
    "- $a$ is the length of the semimajor axis. \n",
    "- $b$ is the length of the semiminor axis. \n",
    "\n",
    "Because $f$ can be a very small number the flattening is usually reported as it's reciprocal $1/f$.\n",
    "\n",
    "The [WGS84 ellipsoid defines](https://desktop.arcgis.com/en/arcmap/10.3/guide-books/map-projections/about-the-geoid-ellipsoid-spheroid-and-datum-and-h.htm) Earth's semimajor axis as 6378137.0 meters and the its semiminor axis as 6356752.31424518 meters.\n",
    "\n",
    "### For this practice program please create a simple Python script that will:\n",
    "- Ask the user to input the semimajor axis and assign its value to a variable\n",
    "- Ask the user to input the semiminor axis and assign its value to a variable\n",
    "- Use the formula above to calculate the flattening\n",
    "- Print the reciprocal of the flattening\n",
    "\n",
    "### Expected Output:\n",
    "```\n",
    "Semimajor axis: 6378137.0\n",
    "Semiminor axis: 6356752.31424518\n",
    "1/f = 298.25722356301014\n",
    "```\n",
    "\n",
    "### Tips / Notes:\n",
    "- To include a user's input in your script you can use the `input()` function. \n",
    "    - You will need to assign the result of the input to a varialble: `x = input()`\n",
    "    - If you put some text within the parentheses that text will be printed as a prompt to the user:\n",
    "        - Example: `x = input(\"Enter a value\")`\n",
    "    - Anything passed by a user to the `input()` function will end up with the string data type. This means we have to convert any input values to an integer (whole number) or a floating point number (decimal number) if we want to perform any calculations with them. Integers are referred to by the `int` type, floating point numbers are referred to by the `float` type, and strings of characters and digits are referred to by the `str` type. Python has build-in functions to convert from one type to another but only valid values can be converted (e.g. you cannot convert `\"1.5g\"` from a string to a float due to the `\"g\"` character but `\"1.5\"` is fine.\n",
    "        - Type conversion functions:\n",
    "            - Convert `x` to a float: `x = float(x)`\n",
    "            - Convert `x` to an integer: `x = int(x)`\n",
    "            - Convert `x` to an string: `x = str(x)`\n",
    "        - Alternatively, wrap the `input()` function in one of those conversion functions to do it in one step:\n",
    "            - Example: `x = float(input(\"The input will become a float stored in x\"))`\n",
    "            - This is an example of nested brackets. Since 2 brackets were opened, both need to be closed.\n",
    "        - This sounds really complex but you'll figure it out quick. \n",
    "- You can print different data types together by separating them with a comma within the `print()` statement\n",
    "    - Example: `print(\"Number of dogs:\", 7)` will output `Number of dogs: 7`. Note: The comma adds a space between the two elements."
   ]
  },
  {
   "cell_type": "code",
   "execution_count": 1,
   "id": "7e83dac4",
   "metadata": {},
   "outputs": [
    {
     "name": "stdin",
     "output_type": "stream",
     "text": [
      "Enter the Semimajor axis:  6378137.0\n",
      "Enter the Semiminor axis:  6356752.31424518\n"
     ]
    },
    {
     "name": "stdout",
     "output_type": "stream",
     "text": [
      "The reciprocal of the flattening is  298.25722356301014\n"
     ]
    }
   ],
   "source": [
    "# Use this cell for your solution to Practice Program 2.2\n",
    "# +++++++++++++++++++++++++++++++++++++++++++++++++++++++\n",
    "smj = float(input(\"Enter the Semimajor axis: \"))\n",
    "smn = float(input(\"Enter the Semiminor axis: \"))\n",
    "# Use the flattening formula for an ellipsoid\n",
    "f = (smj-smn)/smj\n",
    "# Calcualte the reciprocal of the flattening\n",
    "rf = (1/f)\n",
    "print(\"The reciprocal of the flattening is \", rf)\n"
   ]
  },
  {
   "cell_type": "markdown",
   "id": "e8a65ad0",
   "metadata": {},
   "source": [
    "**Click on the three dots `...` below to reveal a possible solution**"
   ]
  },
  {
   "cell_type": "code",
   "execution_count": null,
   "id": "4226500a",
   "metadata": {
    "jupyter": {
     "source_hidden": true
    },
    "tags": []
   },
   "outputs": [],
   "source": [
    "# This is one possible solution for Practice Program 2.2\n",
    "# ++++++++++++++++++++++++++++++++++++++++++++++++++++++\n",
    "\n",
    "# Ask the user to input the semimajor axis and store it in variable a\n",
    "a = float(input(\"Semimajor axis:\"))\n",
    "\n",
    "# Ask the user to input the semiminor axis and store it in variable b\n",
    "b = float(input(\"Semiminor axis:\"))\n",
    "\n",
    "# Calculate the flattening and store the result in f\n",
    "f = (a - b) / a\n",
    "\n",
    "# Determine the reciprocal of f and store it in variable f_recip\n",
    "f_recip = 1 / f\n",
    "\n",
    "# Print the result\n",
    "print(\"1/f =\", f_recip)\n"
   ]
  },
  {
   "cell_type": "markdown",
   "id": "cf8d2dcc",
   "metadata": {
    "tags": []
   },
   "source": [
    "---\n",
    "# Practice Program 2.3 - Euclidean Distance\n",
    "\n",
    "To find the straight-line distance, or Euclidean distance, between two points we can use the Pythagorean Theorem: $ c^2 = a^2 + b^2 $. More specifically:\n",
    "\n",
    "$ d_E = √((x_1 - x_2)^2 + (y_1 - y_2)^2) $\n",
    "\n",
    "Where:\n",
    "- $d_E$ is equal to the Euclidean distance\n",
    "- $x_1$ and $y_1$ are the $x$ and $y$ coordinates of point 1\n",
    "- $x_2$ and $y_2$ are the $x$ and $y$ coordinates of point 2\n",
    "\n",
    "\n",
    "### For this practice program please create a simple Python script that will:\n",
    "1. Print some instructions for the user\n",
    "2. Ask the user to input the coordinates of the two points\n",
    "3. Save those coordinates to variables (with appropriate names)\n",
    "4. Perform the required calculation\n",
    "5. Output the Euclidean distance between the two points, rounded to 3 decimal places\n",
    "\n",
    "### Expected Output:\n",
    "```\n",
    "Input the coordinates of the two points (x1, y1) and (x2, y2) to calculate the Euclidean distance\n",
    "Enter the x1: 0\n",
    "Enter the y1: 0\n",
    "Enter the x2: 10\n",
    "Enter the y2: 10\n",
    "Euclidean distance: 14.142\n",
    "```\n",
    "### Notes / Tips:\n",
    "\n",
    "- How do I perform square and square root in Python?\n",
    "    1. First, at the start of your script you'll want to import the math module: `import math`\n",
    "        - Note: This was already imported in Practice Program 2.1, provided you ran that cell, but you can include it again\n",
    "    2. To get the square of a number you can either use the power operator (`**`), or the power function found in the math module \n",
    "        - Power operator example: my_num squared is `my_num**2`\n",
    "        - Power function example: my_num cubed is `math.pow(my_num, 3)` \n",
    "    - To get the square root of a number stored in the variable my_num you'll use the square root function: `math.sqrt(my_num)`\n",
    "    - Use the built-in help function to get help with these. Example: ?math.sqrt\n",
    "- To round a floating point number you can use the round function `round()`\n",
    "    - `round()` takes two parameters: the number that is being rounded, and the number of digits after the decimal\n",
    "    - Example: `round(7.58174566, 3)` will output `7.582`"
   ]
  },
  {
   "cell_type": "code",
   "execution_count": 4,
   "id": "e563f794",
   "metadata": {
    "tags": []
   },
   "outputs": [
    {
     "name": "stdout",
     "output_type": "stream",
     "text": [
      "Enter two sets of coordinates\n"
     ]
    },
    {
     "name": "stdin",
     "output_type": "stream",
     "text": [
      "Enter the x1:  0\n",
      "Enter the y1:  0\n",
      "Enter the x2:  10\n",
      "Enter the y2:  10\n"
     ]
    },
    {
     "name": "stdout",
     "output_type": "stream",
     "text": [
      "The Euclidean distance is  14.142\n"
     ]
    }
   ],
   "source": [
    "# Use this cell for your solution to Practice Program 2.3\n",
    "# +++++++++++++++++++++++++++++++++++++++++++++++++++++++-\n",
    "# Import the libairy math\n",
    "import math\n",
    "print(\"Enter two sets of coordinates\")\n",
    "x1 = int(input(\"Enter the x1: \"))\n",
    "y1 = int(input(\"Enter the y1: \"))\n",
    "x2 = int(input(\"Enter the x2: \"))\n",
    "y2 = int(input(\"Enter the y2: \"))\n",
    "# Calculate the Euclidean distance between the two points given\n",
    "e_dis = round(math.sqrt(math.pow((x1-x2),2)+math.pow((y1-y2),2)),3)\n",
    "print(\"The Euclidean distance is \",e_dis)\n",
    "\n",
    "\n"
   ]
  },
  {
   "cell_type": "markdown",
   "id": "a607f07b",
   "metadata": {},
   "source": [
    "**Click on the three dots `...` below to reveal a possible solution**"
   ]
  },
  {
   "cell_type": "code",
   "execution_count": null,
   "id": "53642907",
   "metadata": {
    "jupyter": {
     "source_hidden": true
    },
    "tags": []
   },
   "outputs": [],
   "source": [
    "# This is one possible solution for Practice Program 2.3\n",
    "# ++++++++++++++++++++++++++++++++++++++++++++++++++++++\n",
    "\n",
    "# Import the math library\n",
    "import math\n",
    "\n",
    "# Ask the user to input the coordinates of the two points (x1, y1) and (x2, y2)\n",
    "print(\"Input the coordinates of the two points (x1, y1) and (x2, y2) to calculate the Euclidean distance\")\n",
    "x1 = float(input(\"Enter the x1:\")) \n",
    "y1 = float(input(\"Enter the y1:\")) \n",
    "x2 = float(input(\"Enter the x2:\")) \n",
    "y2 = float(input(\"Enter the y2:\"))\n",
    "\n",
    "# Calculate the Euclidean distance\n",
    "euc_dist = math.sqrt((x1 - x2)**2 + (y1 - y2)**2)\n",
    "\n",
    "print(\"Euclidean distance:\", round(euc_dist, 3))"
   ]
  },
  {
   "cell_type": "markdown",
   "id": "a0d03093",
   "metadata": {},
   "source": [
    "---\n",
    "# Practice Program 2.4 - Converting Degrees/Minutes/Seconds to Decimal Degrees\n",
    "\n",
    "Unprojected geographic coordinate systems (latitude, longitude) are often presented in the degrees/minutes/seconds format (e.g. 45°22'50.7\"N, 75°41'55.9\"W) but sometimes it is preferrable to present them in decimal degrees (45.38075, -75.69886).\n",
    "\n",
    "To perform this conversion you need to:\n",
    "- Divide the number of seconds by 60 and add the result to the minutes. This operation converts the minutes to decimal minutes.\n",
    "    - `decimal_minutes = (seconds / 60) + minutes`\n",
    "- Divide the decimal minutes by 60 and add the result to the degrees. This operation converts the degrees to decimal degrees.\n",
    "    - `decimal_degrees = (decimal_minutes / 60) + degrees`\n",
    "\n",
    "### For this practice program please create a simple Python script that will:\n",
    "- Ask the user to input the degrees, minutes, and seconds of a coordinate's latitude\n",
    "- Ask the user to input the degrees, minutes, and seconds of a coordinate's longitude\n",
    "- Convert the latitude to decimal degrees\n",
    "- Convert the longitude to decimal degrees\n",
    "- Print the converted coordinates\n",
    "\n",
    "### Tips / Notes:\n",
    "- Don't worry about the hemisphere (N,S,W,E)\n",
    "- You will need to store several input values in different variables so give them good names (e.g. `lat_minutes`, `long_seconds`, etc.)\n",
    "- At this stage of your training you will probably want to use one input function and one variable for each value that you want to store.\n",
    "    - Example: `lat_degrees = input(\"Enter the latitude degrees :\")` and `long_minutes = input(Enter the longitude minutes: \")`\n",
    "    - Note: It's possible to split a string into multiple parts - this will be taught later.\n",
    "- Don't forget to convert the input from a string to a float!\n",
    "- If you want to print a string next to a value put your string in double quotes, then a comma, and then the variable or value that you want to print.\n",
    "    - Examples: `print(\"My favourite number: \", 7)`, `print(\"My favourite number :\", fav_num)`\n",
    "- You can test your program using the coordinates given above\n",
    "\n"
   ]
  },
  {
   "cell_type": "code",
   "execution_count": null,
   "id": "ce2ea5a7",
   "metadata": {},
   "outputs": [],
   "source": [
    "# Use this cell for your solution to Practice Program 2.4\n",
    "# +++++++++++++++++++++++++++++++++++++++++++++++++++++++-+\n",
    "print(\"Enter a set of coordinates with degrees, minutes, and seconds\")\n",
    "lat_deg = int(input(\"Enter the latitude degrees: \"))\n",
    "lat_min = int(input(\"Enter the latitude minutes: \"))\n",
    "lat_sec = int(input(\"Enter the latitude seconds: \"))\n",
    "long_deg = int(input(\"Enter the longitude degrees: \"))\n",
    "long_min = int(input(\"Enter the longitude minutes: \"))\n",
    "long_sec = int(input(\"Enter the longitude seconds: \"))\n",
    "# Start the coversion for the latitude\n",
    "\n"
   ]
  },
  {
   "cell_type": "markdown",
   "id": "1ab272ba",
   "metadata": {},
   "source": [
    "**Click on the three dots `...` below to reveal a possible solution**"
   ]
  },
  {
   "cell_type": "code",
   "execution_count": null,
   "id": "cac4fb48",
   "metadata": {
    "jupyter": {
     "source_hidden": true
    },
    "tags": []
   },
   "outputs": [],
   "source": [
    "# This is one possible solution for Practice Program 2.4\n",
    "# ++++++++++++++++++++++++++++++++++++++++++++++++++++++\n",
    "\n",
    "lat_degrees = float(input(\"Enter the latitude degrees: \"))\n",
    "lat_minutes = float(input(\"Enter the latitude minutes: \"))\n",
    "lat_seconds = float(input(\"Enter the latitude seconds: \"))\n",
    "\n",
    "long_degrees = float(input(\"Enter the longitude degrees: \"))\n",
    "long_minutes = float(input(\"Enter the longitude minutes: \"))\n",
    "long_seconds = float(input(\"Enter the longitude seconds: \"))\n",
    "\n",
    "lat_minutes_dd = (lat_seconds / 60) + lat_minutes\n",
    "lat_degrees_dd = (lat_minutes_dd / 60) + lat_degrees\n",
    "\n",
    "long_minutes_dd = (long_seconds / 60) + long_minutes\n",
    "long_degrees_dd = (long_minutes_dd / 60) + long_degrees\n",
    "\n",
    "print(\"Latitude in decimal degrees: \", round(lat_degrees_dd, 5))\n",
    "print(\"Longitude in decimal degrees: \", round(long_degrees_dd, 5))"
   ]
  },
  {
   "cell_type": "markdown",
   "id": "3f1344dd",
   "metadata": {},
   "source": [
    "---\n",
    "# Practice Program 2.5 - Converting Decimal Degrees to Degrees/Minutes/Seconds\n",
    "\n",
    "If we want to the other direction and convert decimal degrees to degrees/minutes/seconds we need to do the following:\n",
    "\n",
    "- Degrees (d) are equal to the integer value of the decimal degrees (dd)\n",
    "    - `degrees = int(decimal_degrees)`\n",
    "- Minutes (m) are equal to the integer value of the decimal portion of the decimal degrees times 60:\n",
    "    - `minutes = int((decimal_degrees - degrees) * 60)`\n",
    "- Seconds (s) are equal to the the degrees and minutes subtracted from the decimal degrees divded by 60 and multiplied by 3600:\n",
    "    - `seconds = ((decimal_degrees - degrees - minutes) / 60) * 3600`\n",
    "\n",
    "### For this practice program please create a simple Python script that will:\n",
    "\n",
    "- Ask the user to input the decimal degrees of a coordinate's latitude (must be a positive number)\n",
    "- Ask the user to input the decimal degrees of a coordinate's longitude (must be a positive number)\n",
    "- Convert the latitude to degrees/minutes/seconds\n",
    "- Convert the longitude to degrees/minutes/seconds\n",
    "- Print the results of the conversion\n",
    "\n",
    "### Sample Output:\n",
    "```\n",
    "Please enter the latitude in decimal degrees:  45.38075\n",
    "Please enter the longitude in decimal degrees:  -75.69886\n",
    "Latitude  : 45°22'50.7\"\n",
    "Longitude : 75°41'55.9\"\n",
    "```\n",
    "\n",
    "### Tips / Notes:\n",
    "- Decimal degrees sometimes have a negative sign in front of them to indicate locations in the Southern and Eastern hemispheres. You'll need to remove that negative sign or all the degrees/minutes/seconds will have negative signs. The absolute value function `abs()` is a great way to do this.\n",
    "    - For example: `dd_lat = abs(float(input(\"Please enter the latitude in decimal degrees: \")))`\n",
    "        - Nesting these three functions will give you the absolute value of the floating point number converted from the input string."
   ]
  },
  {
   "cell_type": "code",
   "execution_count": null,
   "id": "c0275288",
   "metadata": {},
   "outputs": [],
   "source": [
    "# Use this cell for your solution to Practice Program 2.5\n",
    "# +++++++++++++++++++++++++++++++++++++++++++++++++++++++\n",
    "\n",
    "\n"
   ]
  },
  {
   "cell_type": "markdown",
   "id": "fdb15695",
   "metadata": {},
   "source": [
    "**Click on the three dots `...` below to reveal a possible solution**"
   ]
  },
  {
   "cell_type": "code",
   "execution_count": null,
   "id": "aa835ec9",
   "metadata": {
    "jupyter": {
     "source_hidden": true
    },
    "tags": []
   },
   "outputs": [],
   "source": [
    "# This is one possible solution for Practice Program 2.5\n",
    "# ++++++++++++++++++++++++++++++++++++++++++++++++++++++\n",
    "\n",
    "# Ask the user to input the coordinates\n",
    "dd_lat = abs(float(input(\"Please enter the latitude in decimal degrees: \")))\n",
    "dd_long = abs(float(input(\"Please enter the longitude in decimal degrees: \")))\n",
    "\n",
    "# Calculate the degrees, minutes, and seconds of the latitude\n",
    "d_lat = int(dd_lat)\n",
    "m_lat = int((dd_lat - d_lat) * 60)\n",
    "s_lat = (dd_lat - d_lat - m_lat / 60) * 3600\n",
    "\n",
    "# Calculate the degrees, minutes, and seconds of the longitude\n",
    "d_long = int(dd_long)\n",
    "m_long = int((dd_long - d_long) * 60)\n",
    "s_long = (dd_long - d_long - m_long / 60) * 3600\n",
    "\n",
    "# Print the output by converting the values and concatenating them with the necessary words and symbols\n",
    "print(\"Latitude  : \" + str(d_lat) + \"°\" + str(m_lat) + \"'\" + str(round(s_lat, 1)) + '\"')\n",
    "print(\"Longitude : \" + str(d_long) + \"°\" + str(m_long) + \"'\" + str(round(s_long, 1)) + '\"')"
   ]
  }
 ],
 "metadata": {
  "interpreter": {
   "hash": "56b2d348e175b0ca03167f8b3deb68b686b0fde74891685a9b6b2e078f9290f7"
  },
  "kernelspec": {
   "display_name": "Python 3 (ipykernel)",
   "language": "python",
   "name": "python3"
  },
  "language_info": {
   "codemirror_mode": {
    "name": "ipython",
    "version": 3
   },
   "file_extension": ".py",
   "mimetype": "text/x-python",
   "name": "python",
   "nbconvert_exporter": "python",
   "pygments_lexer": "ipython3",
   "version": "3.8.10"
  }
 },
 "nbformat": 4,
 "nbformat_minor": 5
}
