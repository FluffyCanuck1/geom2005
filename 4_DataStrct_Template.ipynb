{
 "cells": [
  {
   "cell_type": "markdown",
   "id": "cb9f0bb6",
   "metadata": {},
   "source": [
    "## Print Hourly Temperature Summary from Environment Canada "
   ]
  },
  {
   "cell_type": "code",
   "execution_count": null,
   "id": "60a30c79",
   "metadata": {},
   "outputs": [],
   "source": [
    "#Load packages\n",
    "import nest_asyncio\n",
    "import asyncio\n",
    "\n",
    "from env_canada import ECWeather #This just loads a specific part of the package"
   ]
  },
  {
   "cell_type": "code",
   "execution_count": null,
   "id": "0698cdd3",
   "metadata": {},
   "outputs": [],
   "source": [
    "#Get data from Environment Canada\n",
    "ec_en = ECWeather(coordinates=(45.4215, -75.6972))\n",
    "nest_asyncio.apply()\n",
    "asyncio.run(ec_en.update())"
   ]
  },
  {
   "cell_type": "code",
   "execution_count": null,
   "id": "559374a0",
   "metadata": {},
   "outputs": [],
   "source": [
    "temp_list = [] #Create empty list to hold all the hourly temperature forecastes\n",
    "#Iterate through the results to extract parts of interest\n",
    "for forecast in ec_en.daily_forecasts: #Get each forecast for the hour\n",
    "    #print(forecast) #print entire data for hourly forecast. This line can be commented\n",
    "    temp = forecast['temperature'] #Extract just temperature from the forecast using forecast['temperature']\n",
    "    temp = int(temp) #Convert to integer from string\n",
    "    temp_list.append(int(forecast['temperature'])) # Append to the list  \n",
    "\n",
    "print(temp_list) #temp_list now contains all the temperature forecasts as integer"
   ]
  },
  {
   "cell_type": "markdown",
   "id": "3fd89696",
   "metadata": {},
   "source": [
    "## How many temperature readings are there? (0.5 point)"
   ]
  },
  {
   "cell_type": "code",
   "execution_count": null,
   "id": "400b6a71",
   "metadata": {},
   "outputs": [],
   "source": [
    "#Write your code here.\n",
    "#Your output should be just a number\n",
    "#Search length of a string in Python\n"
   ]
  },
  {
   "cell_type": "markdown",
   "id": "01f3609a",
   "metadata": {},
   "source": [
    "## What is the mean temperature? (1 points)"
   ]
  },
  {
   "cell_type": "code",
   "execution_count": null,
   "id": "5dc01c06",
   "metadata": {},
   "outputs": [],
   "source": [
    "#Write your code here.\n",
    "#Your output should be just a number\n",
    "#Use a for or while loop\n"
   ]
  },
  {
   "cell_type": "markdown",
   "id": "daffb5ad",
   "metadata": {},
   "source": [
    "## Now use the mean function in the statisics package to calculate the mean (0.5 point)\n",
    "Remember that you need to import the package before using the function"
   ]
  },
  {
   "cell_type": "code",
   "execution_count": null,
   "id": "35bad308",
   "metadata": {},
   "outputs": [],
   "source": [
    "#Write your code here.\n",
    "#Your output should be just a number\n"
   ]
  },
  {
   "cell_type": "markdown",
   "id": "2495c4ad",
   "metadata": {},
   "source": [
    "## Print 'Above' if the particular entry is above the mean, 'Below' if it is below the mean, and 'Equals' of they are the same (1 point)\n",
    "### Use a for loop to iterate through the list"
   ]
  },
  {
   "cell_type": "code",
   "execution_count": null,
   "id": "18b6774f",
   "metadata": {},
   "outputs": [],
   "source": [
    "#Write your code here.\n"
   ]
  },
  {
   "cell_type": "markdown",
   "id": "2edfed0a",
   "metadata": {},
   "source": [
    "### ec_en.conditions is a dictionary of dictionaries containing data about current environmental conditions. Print the current pressure value in kPa. The output should be just a number (0.5 point)"
   ]
  },
  {
   "cell_type": "code",
   "execution_count": null,
   "id": "b413d3f1",
   "metadata": {},
   "outputs": [],
   "source": [
    "#Write your code here\n",
    "print(ec_en.conditions)"
   ]
  },
  {
   "cell_type": "markdown",
   "id": "e7b48341-cd7b-448d-951f-9ebe68c65609",
   "metadata": {},
   "source": [
    "## Hourly Rain Probability for Vancouver. \n",
    "\n",
    "### Query the service for Vancouver weather forecast and prepare the data appropriately to answer the next question (0.5 point)\n",
    "### Use `hourly_forecast` instead of `daily_forecast` and print only the time followed by either 'HIGH PROBABILITY' (if 'rain' OR 'shower' is mentioned in the forecast AND chance of precipitation is greater than or equal to 60\"  or 'LOW PROBABILITY' (if 'cloud' is mentioned in the forecast AND chance of precipitation is greater than 10). (1 point)\n",
    "\n",
    "Note that there might be no rain predicted using the above logic. If you can handle that case, you may get a 0.5 bonus"
   ]
  },
  {
   "cell_type": "code",
   "execution_count": null,
   "id": "9fa19237-ec44-42ef-8315-c22da5469b1b",
   "metadata": {},
   "outputs": [],
   "source": [
    "#Your code here\n"
   ]
  }
 ],
 "metadata": {
  "kernelspec": {
   "display_name": "Python 3 (ipykernel)",
   "language": "python",
   "name": "python3"
  },
  "language_info": {
   "codemirror_mode": {
    "name": "ipython",
    "version": 3
   },
   "file_extension": ".py",
   "mimetype": "text/x-python",
   "name": "python",
   "nbconvert_exporter": "python",
   "pygments_lexer": "ipython3",
   "version": "3.8.12"
  }
 },
 "nbformat": 4,
 "nbformat_minor": 5
}
