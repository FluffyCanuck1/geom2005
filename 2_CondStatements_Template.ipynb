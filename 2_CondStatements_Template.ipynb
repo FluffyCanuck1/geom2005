{
 "cells": [
  {
   "cell_type": "markdown",
   "id": "4daab327-ee9a-4d26-8570-2edcc53200dc",
   "metadata": {},
   "source": [
    "## Quiz Question 1 (1 point)\n",
    "Accept two numbers (a and b) and see whether a is greater than b, b greater than a."
   ]
  },
  {
   "cell_type": "code",
   "execution_count": 2,
   "id": "2671ce47-252f-4fae-a6b5-72abed3d6a64",
   "metadata": {},
   "outputs": [],
   "source": [
    "#Accept input"
   ]
  },
  {
   "cell_type": "code",
   "execution_count": 3,
   "id": "cfa9e85a-3671-4c96-8f0a-316ee95c954b",
   "metadata": {},
   "outputs": [],
   "source": [
    "#Compare and print result"
   ]
  },
  {
   "cell_type": "markdown",
   "id": "3e6812a5-46f1-45c6-bf61-f438d7907a6e",
   "metadata": {},
   "source": [
    "## Quiz Question 2 (2 points)\n",
    "Accept a coordinate point (x and y input) in a XY coordinate system and determine in which quadrant the coordinate point lies. \n",
    "![Quadrants](http://www.montereyinstitute.org/courses/DevelopmentalMath/COURSE_TEXT2_RESOURCE/U13_L1_T1_text_final_4_files/image002.jpg)"
   ]
  },
  {
   "cell_type": "code",
   "execution_count": 7,
   "id": "ca240205-6b25-423c-ae23-5f49b226f5df",
   "metadata": {},
   "outputs": [],
   "source": [
    "#Accept input"
   ]
  },
  {
   "cell_type": "code",
   "execution_count": 6,
   "id": "cd0a741e-78b0-43e0-89ad-c2bb6ba0232e",
   "metadata": {},
   "outputs": [],
   "source": [
    "#Check which quadrant point lies in and print answer"
   ]
  },
  {
   "cell_type": "markdown",
   "id": "a8c4e7c4-472b-4b46-9d84-289febc3475b",
   "metadata": {},
   "source": [
    "## Quiz Question 3 (2 points)\n",
    "### Simulate Random Sampling\n",
    "You are selecting random people from a population where age varies between 8 and 100. The person can only be interviewed if they are above 18 years of age.<br>\n",
    "Import the module random. Generate a random integer using `random.randint(lower_limit, upper_limit)` and store in variable age. <br>\n",
    "Print “eligible for interview” if the person is aged between 18 and 60. Otherwise print “not eligible”.\n"
   ]
  },
  {
   "cell_type": "code",
   "execution_count": 8,
   "id": "0ff17d0f-cdfa-493e-b3bb-02579643e178",
   "metadata": {},
   "outputs": [],
   "source": [
    "#import the package random"
   ]
  },
  {
   "cell_type": "code",
   "execution_count": 10,
   "id": "5afa4f71-3ad0-4875-86bf-413f7b73a184",
   "metadata": {},
   "outputs": [],
   "source": [
    "#Generate random person age\n",
    "\n",
    "#Check if the person can be interviewed and print answer\n"
   ]
  },
  {
   "cell_type": "markdown",
   "id": "3ca34334-e2eb-449a-80f6-97779d1a5146",
   "metadata": {},
   "source": [
    "If you run this program 10 times, how many eligible people are you getting?<br>\n",
    "Create a markdown cell below to write your answer"
   ]
  }
 ],
 "metadata": {
  "kernelspec": {
   "display_name": "Python 3 (ipykernel)",
   "language": "python",
   "name": "python3"
  },
  "language_info": {
   "codemirror_mode": {
    "name": "ipython",
    "version": 3
   },
   "file_extension": ".py",
   "mimetype": "text/x-python",
   "name": "python",
   "nbconvert_exporter": "python",
   "pygments_lexer": "ipython3",
   "version": "3.8.12"
  }
 },
 "nbformat": 4,
 "nbformat_minor": 5
}
