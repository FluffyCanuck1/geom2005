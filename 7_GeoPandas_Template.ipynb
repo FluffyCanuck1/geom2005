{
 "cells": [
  {
   "cell_type": "code",
   "execution_count": 20,
   "id": "f1095218",
   "metadata": {},
   "outputs": [],
   "source": [
    "import geopandas as gpd\n",
    "import pandas as pd\n",
    "import os\n",
    "from shapely.geometry import Point, LineString, Polygon\n",
    "\n",
    "%matplotlib inline"
   ]
  },
  {
   "cell_type": "markdown",
   "id": "e6d12f7c",
   "metadata": {},
   "source": [
    "## Prepare Data"
   ]
  },
  {
   "cell_type": "markdown",
   "id": "31127dfd",
   "metadata": {},
   "source": [
    "### Read data\n",
    "Note that, since we are reading a large number of files, data reading will take some time (10-60 secs)"
   ]
  },
  {
   "cell_type": "code",
   "execution_count": 21,
   "id": "f0473b1e",
   "metadata": {},
   "outputs": [],
   "source": [
    "folder_name = 'GeopandasDataset'  #Folder where the csv files are stored. Unzip the folder before use. Folder should be placed in a sub directory beneath the folder which has the .pynb file\n",
    "wd = os.getcwd() #Get current directory\n",
    "path =  os.path.join (wd, folder_name) #OS agnostic way of creating path.\n",
    "\n",
    "trips_df = pd.read_csv(os.path.join(path, \"OD_2020_AprMay.csv\"), parse_dates=['start_date', 'end_date'])\n",
    "stations_df = pd.read_csv(os.path.join(path, \"stations.csv\"))"
   ]
  },
  {
   "cell_type": "markdown",
   "id": "3c220fab",
   "metadata": {},
   "source": [
    "Convert stations from dataframe to gdf"
   ]
  },
  {
   "cell_type": "code",
   "execution_count": 22,
   "id": "3ee45561",
   "metadata": {},
   "outputs": [
    {
     "name": "stderr",
     "output_type": "stream",
     "text": [
      "C:\\ProgramData\\Anaconda3\\envs\\geom2005\\lib\\site-packages\\pyproj\\crs\\crs.py:68: FutureWarning: '+init=<authority>:<code>' syntax is deprecated. '<authority>:<code>' is the preferred initialization method. When making the change, be mindful of axis order changes: https://pyproj4.github.io/pyproj/stable/gotchas.html#axis-order-changes-in-proj-6\n",
      "  return _prepare_from_string(\" \".join(pjargs))\n"
     ]
    }
   ],
   "source": [
    "stations_gdf = gpd.GeoDataFrame(\n",
    "                stations_df.drop(['longitude', 'latitude'], axis=1),\n",
    "                crs = {'init' : 'EPSG:4326'},\n",
    "                geometry = [Point(x,y) for x,y in zip(stations_df.longitude, stations_df.latitude)]\n",
    "            )"
   ]
  },
  {
   "cell_type": "markdown",
   "id": "a77d31e9",
   "metadata": {},
   "source": [
    "### Join dataframes so that lat long is present"
   ]
  },
  {
   "cell_type": "code",
   "execution_count": 23,
   "id": "52236eca",
   "metadata": {},
   "outputs": [
    {
     "data": {
      "text/html": [
       "<div>\n",
       "<style scoped>\n",
       "    .dataframe tbody tr th:only-of-type {\n",
       "        vertical-align: middle;\n",
       "    }\n",
       "\n",
       "    .dataframe tbody tr th {\n",
       "        vertical-align: top;\n",
       "    }\n",
       "\n",
       "    .dataframe thead th {\n",
       "        text-align: right;\n",
       "    }\n",
       "</style>\n",
       "<table border=\"1\" class=\"dataframe\">\n",
       "  <thead>\n",
       "    <tr style=\"text-align: right;\">\n",
       "      <th></th>\n",
       "      <th>start_date</th>\n",
       "      <th>start_station_code</th>\n",
       "      <th>end_date</th>\n",
       "      <th>end_station_code</th>\n",
       "      <th>duration_sec</th>\n",
       "      <th>is_member</th>\n",
       "      <th>code_x</th>\n",
       "      <th>name_x</th>\n",
       "      <th>geometry_x</th>\n",
       "      <th>code_y</th>\n",
       "      <th>name_y</th>\n",
       "      <th>geometry_y</th>\n",
       "    </tr>\n",
       "  </thead>\n",
       "  <tbody>\n",
       "    <tr>\n",
       "      <th>0</th>\n",
       "      <td>2020-04-15 06:00:00</td>\n",
       "      <td>6212.0</td>\n",
       "      <td>2020-04-15 06:20:00</td>\n",
       "      <td>6250.0</td>\n",
       "      <td>1250.0</td>\n",
       "      <td>1.0</td>\n",
       "      <td>6212</td>\n",
       "      <td>Duluth / de l'Esplanade</td>\n",
       "      <td>POINT (-73.58114 45.51509)</td>\n",
       "      <td>6250</td>\n",
       "      <td>Marché Jean-Talon (Henri-Julien / Jean-Talon)</td>\n",
       "      <td>POINT (-73.61489 45.53679)</td>\n",
       "    </tr>\n",
       "    <tr>\n",
       "      <th>1</th>\n",
       "      <td>2020-04-17 07:18:00</td>\n",
       "      <td>6212.0</td>\n",
       "      <td>2020-04-17 07:37:00</td>\n",
       "      <td>6250.0</td>\n",
       "      <td>1182.0</td>\n",
       "      <td>1.0</td>\n",
       "      <td>6212</td>\n",
       "      <td>Duluth / de l'Esplanade</td>\n",
       "      <td>POINT (-73.58114 45.51509)</td>\n",
       "      <td>6250</td>\n",
       "      <td>Marché Jean-Talon (Henri-Julien / Jean-Talon)</td>\n",
       "      <td>POINT (-73.61489 45.53679)</td>\n",
       "    </tr>\n",
       "    <tr>\n",
       "      <th>2</th>\n",
       "      <td>2020-04-22 11:43:00</td>\n",
       "      <td>6212.0</td>\n",
       "      <td>2020-04-22 12:04:00</td>\n",
       "      <td>6250.0</td>\n",
       "      <td>1290.0</td>\n",
       "      <td>1.0</td>\n",
       "      <td>6212</td>\n",
       "      <td>Duluth / de l'Esplanade</td>\n",
       "      <td>POINT (-73.58114 45.51509)</td>\n",
       "      <td>6250</td>\n",
       "      <td>Marché Jean-Talon (Henri-Julien / Jean-Talon)</td>\n",
       "      <td>POINT (-73.61489 45.53679)</td>\n",
       "    </tr>\n",
       "    <tr>\n",
       "      <th>3</th>\n",
       "      <td>2020-04-27 06:46:00</td>\n",
       "      <td>6212.0</td>\n",
       "      <td>2020-04-27 07:02:00</td>\n",
       "      <td>6250.0</td>\n",
       "      <td>951.0</td>\n",
       "      <td>1.0</td>\n",
       "      <td>6212</td>\n",
       "      <td>Duluth / de l'Esplanade</td>\n",
       "      <td>POINT (-73.58114 45.51509)</td>\n",
       "      <td>6250</td>\n",
       "      <td>Marché Jean-Talon (Henri-Julien / Jean-Talon)</td>\n",
       "      <td>POINT (-73.61489 45.53679)</td>\n",
       "    </tr>\n",
       "    <tr>\n",
       "      <th>4</th>\n",
       "      <td>2020-10-05 04:58:00</td>\n",
       "      <td>6212.0</td>\n",
       "      <td>2020-10-05 05:18:00</td>\n",
       "      <td>6250.0</td>\n",
       "      <td>1190.0</td>\n",
       "      <td>1.0</td>\n",
       "      <td>6212</td>\n",
       "      <td>Duluth / de l'Esplanade</td>\n",
       "      <td>POINT (-73.58114 45.51509)</td>\n",
       "      <td>6250</td>\n",
       "      <td>Marché Jean-Talon (Henri-Julien / Jean-Talon)</td>\n",
       "      <td>POINT (-73.61489 45.53679)</td>\n",
       "    </tr>\n",
       "    <tr>\n",
       "      <th>...</th>\n",
       "      <td>...</td>\n",
       "      <td>...</td>\n",
       "      <td>...</td>\n",
       "      <td>...</td>\n",
       "      <td>...</td>\n",
       "      <td>...</td>\n",
       "      <td>...</td>\n",
       "      <td>...</td>\n",
       "      <td>...</td>\n",
       "      <td>...</td>\n",
       "      <td>...</td>\n",
       "      <td>...</td>\n",
       "    </tr>\n",
       "    <tr>\n",
       "      <th>444852</th>\n",
       "      <td>2020-04-29 11:29:00</td>\n",
       "      <td>7132.0</td>\n",
       "      <td>2020-04-29 11:49:00</td>\n",
       "      <td>7134.0</td>\n",
       "      <td>1178.0</td>\n",
       "      <td>1.0</td>\n",
       "      <td>7132</td>\n",
       "      <td>Notre-Dame-de-Grâce / Westmount</td>\n",
       "      <td>POINT (-73.61122 45.48047)</td>\n",
       "      <td>7134</td>\n",
       "      <td>Sherbrooke / Vignal</td>\n",
       "      <td>POINT (-73.58968 45.48983)</td>\n",
       "    </tr>\n",
       "    <tr>\n",
       "      <th>444853</th>\n",
       "      <td>2020-04-28 13:26:00</td>\n",
       "      <td>7094.0</td>\n",
       "      <td>2020-04-28 13:56:00</td>\n",
       "      <td>7134.0</td>\n",
       "      <td>1827.0</td>\n",
       "      <td>1.0</td>\n",
       "      <td>7094</td>\n",
       "      <td>Alfred Laliberté / de Poutrincourt</td>\n",
       "      <td>POINT (-73.69460 45.53308)</td>\n",
       "      <td>7134</td>\n",
       "      <td>Sherbrooke / Vignal</td>\n",
       "      <td>POINT (-73.58968 45.48983)</td>\n",
       "    </tr>\n",
       "    <tr>\n",
       "      <th>444854</th>\n",
       "      <td>2020-04-25 11:21:00</td>\n",
       "      <td>7128.0</td>\n",
       "      <td>2020-04-25 11:28:00</td>\n",
       "      <td>7134.0</td>\n",
       "      <td>409.0</td>\n",
       "      <td>0.0</td>\n",
       "      <td>7128</td>\n",
       "      <td>Ste-Croix / Tassé</td>\n",
       "      <td>POINT (-73.68516 45.51954)</td>\n",
       "      <td>7134</td>\n",
       "      <td>Sherbrooke / Vignal</td>\n",
       "      <td>POINT (-73.58968 45.48983)</td>\n",
       "    </tr>\n",
       "    <tr>\n",
       "      <th>444855</th>\n",
       "      <td>2020-02-05 14:17:00</td>\n",
       "      <td>7136.0</td>\n",
       "      <td>2020-02-05 15:22:00</td>\n",
       "      <td>7134.0</td>\n",
       "      <td>3895.0</td>\n",
       "      <td>1.0</td>\n",
       "      <td>7136</td>\n",
       "      <td>Beaudet / Marcel-Laurin</td>\n",
       "      <td>POINT (-73.68176 45.50684)</td>\n",
       "      <td>7134</td>\n",
       "      <td>Sherbrooke / Vignal</td>\n",
       "      <td>POINT (-73.58968 45.48983)</td>\n",
       "    </tr>\n",
       "    <tr>\n",
       "      <th>444856</th>\n",
       "      <td>2020-07-05 14:29:00</td>\n",
       "      <td>7136.0</td>\n",
       "      <td>2020-07-05 15:05:00</td>\n",
       "      <td>7134.0</td>\n",
       "      <td>2127.0</td>\n",
       "      <td>1.0</td>\n",
       "      <td>7136</td>\n",
       "      <td>Beaudet / Marcel-Laurin</td>\n",
       "      <td>POINT (-73.68176 45.50684)</td>\n",
       "      <td>7134</td>\n",
       "      <td>Sherbrooke / Vignal</td>\n",
       "      <td>POINT (-73.58968 45.48983)</td>\n",
       "    </tr>\n",
       "  </tbody>\n",
       "</table>\n",
       "<p>444857 rows × 12 columns</p>\n",
       "</div>"
      ],
      "text/plain": [
       "                start_date  start_station_code            end_date  \\\n",
       "0      2020-04-15 06:00:00              6212.0 2020-04-15 06:20:00   \n",
       "1      2020-04-17 07:18:00              6212.0 2020-04-17 07:37:00   \n",
       "2      2020-04-22 11:43:00              6212.0 2020-04-22 12:04:00   \n",
       "3      2020-04-27 06:46:00              6212.0 2020-04-27 07:02:00   \n",
       "4      2020-10-05 04:58:00              6212.0 2020-10-05 05:18:00   \n",
       "...                    ...                 ...                 ...   \n",
       "444852 2020-04-29 11:29:00              7132.0 2020-04-29 11:49:00   \n",
       "444853 2020-04-28 13:26:00              7094.0 2020-04-28 13:56:00   \n",
       "444854 2020-04-25 11:21:00              7128.0 2020-04-25 11:28:00   \n",
       "444855 2020-02-05 14:17:00              7136.0 2020-02-05 15:22:00   \n",
       "444856 2020-07-05 14:29:00              7136.0 2020-07-05 15:05:00   \n",
       "\n",
       "        end_station_code  duration_sec  is_member  code_x  \\\n",
       "0                 6250.0        1250.0        1.0    6212   \n",
       "1                 6250.0        1182.0        1.0    6212   \n",
       "2                 6250.0        1290.0        1.0    6212   \n",
       "3                 6250.0         951.0        1.0    6212   \n",
       "4                 6250.0        1190.0        1.0    6212   \n",
       "...                  ...           ...        ...     ...   \n",
       "444852            7134.0        1178.0        1.0    7132   \n",
       "444853            7134.0        1827.0        1.0    7094   \n",
       "444854            7134.0         409.0        0.0    7128   \n",
       "444855            7134.0        3895.0        1.0    7136   \n",
       "444856            7134.0        2127.0        1.0    7136   \n",
       "\n",
       "                                    name_x                  geometry_x  \\\n",
       "0                  Duluth / de l'Esplanade  POINT (-73.58114 45.51509)   \n",
       "1                  Duluth / de l'Esplanade  POINT (-73.58114 45.51509)   \n",
       "2                  Duluth / de l'Esplanade  POINT (-73.58114 45.51509)   \n",
       "3                  Duluth / de l'Esplanade  POINT (-73.58114 45.51509)   \n",
       "4                  Duluth / de l'Esplanade  POINT (-73.58114 45.51509)   \n",
       "...                                    ...                         ...   \n",
       "444852     Notre-Dame-de-Grâce / Westmount  POINT (-73.61122 45.48047)   \n",
       "444853  Alfred Laliberté / de Poutrincourt  POINT (-73.69460 45.53308)   \n",
       "444854                   Ste-Croix / Tassé  POINT (-73.68516 45.51954)   \n",
       "444855             Beaudet / Marcel-Laurin  POINT (-73.68176 45.50684)   \n",
       "444856             Beaudet / Marcel-Laurin  POINT (-73.68176 45.50684)   \n",
       "\n",
       "        code_y                                         name_y  \\\n",
       "0         6250  Marché Jean-Talon (Henri-Julien / Jean-Talon)   \n",
       "1         6250  Marché Jean-Talon (Henri-Julien / Jean-Talon)   \n",
       "2         6250  Marché Jean-Talon (Henri-Julien / Jean-Talon)   \n",
       "3         6250  Marché Jean-Talon (Henri-Julien / Jean-Talon)   \n",
       "4         6250  Marché Jean-Talon (Henri-Julien / Jean-Talon)   \n",
       "...        ...                                            ...   \n",
       "444852    7134                            Sherbrooke / Vignal   \n",
       "444853    7134                            Sherbrooke / Vignal   \n",
       "444854    7134                            Sherbrooke / Vignal   \n",
       "444855    7134                            Sherbrooke / Vignal   \n",
       "444856    7134                            Sherbrooke / Vignal   \n",
       "\n",
       "                        geometry_y  \n",
       "0       POINT (-73.61489 45.53679)  \n",
       "1       POINT (-73.61489 45.53679)  \n",
       "2       POINT (-73.61489 45.53679)  \n",
       "3       POINT (-73.61489 45.53679)  \n",
       "4       POINT (-73.61489 45.53679)  \n",
       "...                            ...  \n",
       "444852  POINT (-73.58968 45.48983)  \n",
       "444853  POINT (-73.58968 45.48983)  \n",
       "444854  POINT (-73.58968 45.48983)  \n",
       "444855  POINT (-73.58968 45.48983)  \n",
       "444856  POINT (-73.58968 45.48983)  \n",
       "\n",
       "[444857 rows x 12 columns]"
      ]
     },
     "execution_count": 23,
     "metadata": {},
     "output_type": "execute_result"
    }
   ],
   "source": [
    "trips_df = pd.merge(trips_df, stations_gdf, left_on='start_station_code', right_on='code')\n",
    "trips_df = pd.merge(trips_df, stations_gdf, left_on='end_station_code', right_on='code')\n",
    "trips_df"
   ]
  },
  {
   "cell_type": "markdown",
   "id": "618b41e4",
   "metadata": {},
   "source": [
    "### Rename and delete columns \n",
    "Also deleting the original dataframes as we do not need them"
   ]
  },
  {
   "cell_type": "code",
   "execution_count": 24,
   "id": "0a94423a",
   "metadata": {},
   "outputs": [],
   "source": [
    "trips_df = trips_df.rename(columns={\n",
    "        'geometry_x':'start_geometry',\n",
    "        'geometry_y': 'end_geometry'})\n",
    "\n",
    "trips_df = trips_df.drop(['code_x', 'code_y', 'name_x', 'name_y'], axis=1)\n",
    "\n",
    "del(stations_df)\n",
    "del(stations_gdf)"
   ]
  },
  {
   "cell_type": "markdown",
   "id": "86dec514",
   "metadata": {},
   "source": [
    "trips_df is a dataframe. Need to convert it to a geodataframe"
   ]
  },
  {
   "cell_type": "code",
   "execution_count": 25,
   "id": "b961147c",
   "metadata": {},
   "outputs": [
    {
     "data": {
      "text/plain": [
       "pandas.core.frame.DataFrame"
      ]
     },
     "execution_count": 25,
     "metadata": {},
     "output_type": "execute_result"
    }
   ],
   "source": [
    "type(trips_df)"
   ]
  },
  {
   "cell_type": "code",
   "execution_count": 26,
   "id": "0a1a4b67",
   "metadata": {},
   "outputs": [],
   "source": [
    "trips_gdf = gpd.GeoDataFrame(trips_df, geometry=\"start_geometry\", crs=\"EPSG:4326\")\n",
    "del(trips_df)"
   ]
  },
  {
   "cell_type": "markdown",
   "id": "d8fdc8c6",
   "metadata": {},
   "source": [
    "### Here is the dataframe which you will start working with"
   ]
  },
  {
   "cell_type": "code",
   "execution_count": 27,
   "id": "2f1a72f1",
   "metadata": {},
   "outputs": [
    {
     "data": {
      "text/html": [
       "<div>\n",
       "<style scoped>\n",
       "    .dataframe tbody tr th:only-of-type {\n",
       "        vertical-align: middle;\n",
       "    }\n",
       "\n",
       "    .dataframe tbody tr th {\n",
       "        vertical-align: top;\n",
       "    }\n",
       "\n",
       "    .dataframe thead th {\n",
       "        text-align: right;\n",
       "    }\n",
       "</style>\n",
       "<table border=\"1\" class=\"dataframe\">\n",
       "  <thead>\n",
       "    <tr style=\"text-align: right;\">\n",
       "      <th></th>\n",
       "      <th>start_date</th>\n",
       "      <th>start_station_code</th>\n",
       "      <th>end_date</th>\n",
       "      <th>end_station_code</th>\n",
       "      <th>duration_sec</th>\n",
       "      <th>is_member</th>\n",
       "      <th>start_geometry</th>\n",
       "      <th>end_geometry</th>\n",
       "    </tr>\n",
       "  </thead>\n",
       "  <tbody>\n",
       "    <tr>\n",
       "      <th>0</th>\n",
       "      <td>2020-04-15 06:00:00</td>\n",
       "      <td>6212.0</td>\n",
       "      <td>2020-04-15 06:20:00</td>\n",
       "      <td>6250.0</td>\n",
       "      <td>1250.0</td>\n",
       "      <td>1.0</td>\n",
       "      <td>POINT (-73.58114 45.51509)</td>\n",
       "      <td>POINT (-73.61489 45.53679)</td>\n",
       "    </tr>\n",
       "    <tr>\n",
       "      <th>1</th>\n",
       "      <td>2020-04-17 07:18:00</td>\n",
       "      <td>6212.0</td>\n",
       "      <td>2020-04-17 07:37:00</td>\n",
       "      <td>6250.0</td>\n",
       "      <td>1182.0</td>\n",
       "      <td>1.0</td>\n",
       "      <td>POINT (-73.58114 45.51509)</td>\n",
       "      <td>POINT (-73.61489 45.53679)</td>\n",
       "    </tr>\n",
       "    <tr>\n",
       "      <th>2</th>\n",
       "      <td>2020-04-22 11:43:00</td>\n",
       "      <td>6212.0</td>\n",
       "      <td>2020-04-22 12:04:00</td>\n",
       "      <td>6250.0</td>\n",
       "      <td>1290.0</td>\n",
       "      <td>1.0</td>\n",
       "      <td>POINT (-73.58114 45.51509)</td>\n",
       "      <td>POINT (-73.61489 45.53679)</td>\n",
       "    </tr>\n",
       "    <tr>\n",
       "      <th>3</th>\n",
       "      <td>2020-04-27 06:46:00</td>\n",
       "      <td>6212.0</td>\n",
       "      <td>2020-04-27 07:02:00</td>\n",
       "      <td>6250.0</td>\n",
       "      <td>951.0</td>\n",
       "      <td>1.0</td>\n",
       "      <td>POINT (-73.58114 45.51509)</td>\n",
       "      <td>POINT (-73.61489 45.53679)</td>\n",
       "    </tr>\n",
       "    <tr>\n",
       "      <th>4</th>\n",
       "      <td>2020-10-05 04:58:00</td>\n",
       "      <td>6212.0</td>\n",
       "      <td>2020-10-05 05:18:00</td>\n",
       "      <td>6250.0</td>\n",
       "      <td>1190.0</td>\n",
       "      <td>1.0</td>\n",
       "      <td>POINT (-73.58114 45.51509)</td>\n",
       "      <td>POINT (-73.61489 45.53679)</td>\n",
       "    </tr>\n",
       "    <tr>\n",
       "      <th>...</th>\n",
       "      <td>...</td>\n",
       "      <td>...</td>\n",
       "      <td>...</td>\n",
       "      <td>...</td>\n",
       "      <td>...</td>\n",
       "      <td>...</td>\n",
       "      <td>...</td>\n",
       "      <td>...</td>\n",
       "    </tr>\n",
       "    <tr>\n",
       "      <th>444852</th>\n",
       "      <td>2020-04-29 11:29:00</td>\n",
       "      <td>7132.0</td>\n",
       "      <td>2020-04-29 11:49:00</td>\n",
       "      <td>7134.0</td>\n",
       "      <td>1178.0</td>\n",
       "      <td>1.0</td>\n",
       "      <td>POINT (-73.61122 45.48047)</td>\n",
       "      <td>POINT (-73.58968 45.48983)</td>\n",
       "    </tr>\n",
       "    <tr>\n",
       "      <th>444853</th>\n",
       "      <td>2020-04-28 13:26:00</td>\n",
       "      <td>7094.0</td>\n",
       "      <td>2020-04-28 13:56:00</td>\n",
       "      <td>7134.0</td>\n",
       "      <td>1827.0</td>\n",
       "      <td>1.0</td>\n",
       "      <td>POINT (-73.69460 45.53308)</td>\n",
       "      <td>POINT (-73.58968 45.48983)</td>\n",
       "    </tr>\n",
       "    <tr>\n",
       "      <th>444854</th>\n",
       "      <td>2020-04-25 11:21:00</td>\n",
       "      <td>7128.0</td>\n",
       "      <td>2020-04-25 11:28:00</td>\n",
       "      <td>7134.0</td>\n",
       "      <td>409.0</td>\n",
       "      <td>0.0</td>\n",
       "      <td>POINT (-73.68516 45.51954)</td>\n",
       "      <td>POINT (-73.58968 45.48983)</td>\n",
       "    </tr>\n",
       "    <tr>\n",
       "      <th>444855</th>\n",
       "      <td>2020-02-05 14:17:00</td>\n",
       "      <td>7136.0</td>\n",
       "      <td>2020-02-05 15:22:00</td>\n",
       "      <td>7134.0</td>\n",
       "      <td>3895.0</td>\n",
       "      <td>1.0</td>\n",
       "      <td>POINT (-73.68176 45.50684)</td>\n",
       "      <td>POINT (-73.58968 45.48983)</td>\n",
       "    </tr>\n",
       "    <tr>\n",
       "      <th>444856</th>\n",
       "      <td>2020-07-05 14:29:00</td>\n",
       "      <td>7136.0</td>\n",
       "      <td>2020-07-05 15:05:00</td>\n",
       "      <td>7134.0</td>\n",
       "      <td>2127.0</td>\n",
       "      <td>1.0</td>\n",
       "      <td>POINT (-73.68176 45.50684)</td>\n",
       "      <td>POINT (-73.58968 45.48983)</td>\n",
       "    </tr>\n",
       "  </tbody>\n",
       "</table>\n",
       "<p>444857 rows × 8 columns</p>\n",
       "</div>"
      ],
      "text/plain": [
       "                start_date  start_station_code            end_date  \\\n",
       "0      2020-04-15 06:00:00              6212.0 2020-04-15 06:20:00   \n",
       "1      2020-04-17 07:18:00              6212.0 2020-04-17 07:37:00   \n",
       "2      2020-04-22 11:43:00              6212.0 2020-04-22 12:04:00   \n",
       "3      2020-04-27 06:46:00              6212.0 2020-04-27 07:02:00   \n",
       "4      2020-10-05 04:58:00              6212.0 2020-10-05 05:18:00   \n",
       "...                    ...                 ...                 ...   \n",
       "444852 2020-04-29 11:29:00              7132.0 2020-04-29 11:49:00   \n",
       "444853 2020-04-28 13:26:00              7094.0 2020-04-28 13:56:00   \n",
       "444854 2020-04-25 11:21:00              7128.0 2020-04-25 11:28:00   \n",
       "444855 2020-02-05 14:17:00              7136.0 2020-02-05 15:22:00   \n",
       "444856 2020-07-05 14:29:00              7136.0 2020-07-05 15:05:00   \n",
       "\n",
       "        end_station_code  duration_sec  is_member              start_geometry  \\\n",
       "0                 6250.0        1250.0        1.0  POINT (-73.58114 45.51509)   \n",
       "1                 6250.0        1182.0        1.0  POINT (-73.58114 45.51509)   \n",
       "2                 6250.0        1290.0        1.0  POINT (-73.58114 45.51509)   \n",
       "3                 6250.0         951.0        1.0  POINT (-73.58114 45.51509)   \n",
       "4                 6250.0        1190.0        1.0  POINT (-73.58114 45.51509)   \n",
       "...                  ...           ...        ...                         ...   \n",
       "444852            7134.0        1178.0        1.0  POINT (-73.61122 45.48047)   \n",
       "444853            7134.0        1827.0        1.0  POINT (-73.69460 45.53308)   \n",
       "444854            7134.0         409.0        0.0  POINT (-73.68516 45.51954)   \n",
       "444855            7134.0        3895.0        1.0  POINT (-73.68176 45.50684)   \n",
       "444856            7134.0        2127.0        1.0  POINT (-73.68176 45.50684)   \n",
       "\n",
       "                      end_geometry  \n",
       "0       POINT (-73.61489 45.53679)  \n",
       "1       POINT (-73.61489 45.53679)  \n",
       "2       POINT (-73.61489 45.53679)  \n",
       "3       POINT (-73.61489 45.53679)  \n",
       "4       POINT (-73.61489 45.53679)  \n",
       "...                            ...  \n",
       "444852  POINT (-73.58968 45.48983)  \n",
       "444853  POINT (-73.58968 45.48983)  \n",
       "444854  POINT (-73.58968 45.48983)  \n",
       "444855  POINT (-73.58968 45.48983)  \n",
       "444856  POINT (-73.58968 45.48983)  \n",
       "\n",
       "[444857 rows x 8 columns]"
      ]
     },
     "execution_count": 27,
     "metadata": {},
     "output_type": "execute_result"
    }
   ],
   "source": [
    "trips_gdf"
   ]
  },
  {
   "cell_type": "markdown",
   "id": "0b49ccca",
   "metadata": {},
   "source": [
    "#### Read the montreal geojson file into the a GeoDataFrame named mtl. (1 point)\n",
    "The rest of the code will do the plotting of the first 500 points"
   ]
  },
  {
   "cell_type": "code",
   "execution_count": 28,
   "id": "b50ab098",
   "metadata": {},
   "outputs": [
    {
     "data": {
      "text/plain": [
       "<AxesSubplot:>"
      ]
     },
     "execution_count": 28,
     "metadata": {},
     "output_type": "execute_result"
    },
    {
     "data": {
      "image/png": "[encoded data removed]",
      "text/plain": [
       "<Figure size 432x288 with 1 Axes>"
      ]
     },
     "metadata": {
      "needs_background": "light"
     },
     "output_type": "display_data"
    }
   ],
   "source": [
    "mtl = gpd.read_file(os.path.join(path, \"montreal_shapefile.geojson\"))\n",
    "ax = mtl.plot(color='white', edgecolor='black')\n",
    "# We can now plot our GeoDataFrame.\n",
    "trips_gdf.head(n=500).plot(ax=ax, color='red')"
   ]
  },
  {
   "cell_type": "markdown",
   "id": "b1870874",
   "metadata": {},
   "source": [
    "#### Project the geodataframe and Montreal basemap to UTM Zone 18N (EPSG:32618)\n",
    "You will need to project the trips_gdf twice. Once by setting `start_geometry` as the geomtry column and once by setting `end_geometry` as the geometry column.<br>\n",
    "After you are done, remeber to set `start_geometry` as the geometry column\n",
    "\n",
    "In case of GeoDataFrame, CRS in GeoPandas is stored on the level of GeoDataFrame, not individual GeoSeries. So, it is a bit tricky to project multiple geometry columns. "
   ]
  },
  {
   "cell_type": "code",
   "execution_count": 35,
   "id": "ee2cf185",
   "metadata": {},
   "outputs": [
    {
     "name": "stderr",
     "output_type": "stream",
     "text": [
      "C:\\Users\\MATTHE~1\\AppData\\Local\\Temp/ipykernel_7096/2102009827.py:2: FutureWarning: CRS mismatch between CRS of the passed geometries and 'crs'. Use 'GeoDataFrame.set_crs(crs, allow_override=True)' to overwrite CRS or 'GeoSeries.to_crs(crs)' to reproject geometries. CRS mismatch will raise an error in the future versions of GeoPandas.\n",
      "  trips_gdf.end_geometry = gpd.GeoSeries(trips_gdf.end_geometry, crs = \"EPSG:4326\").to_crs(\"EPSG:32618\") #Project the end_geometry column\n"
     ]
    }
   ],
   "source": [
    "trips_gdf = trips_gdf.to_crs(\"EPSG:32618\") #Since start_geometry is set as the geometry, this projects that column and updates the crs asssociated with the GeoSeries\n",
    "trips_gdf.end_geometry = gpd.GeoSeries(trips_gdf.end_geometry, crs = \"EPSG:4326\").to_crs(\"EPSG:32618\") #Project the end_geometry column\n",
    "trips_gdf.crs = \"EPSG:32618\"  #Without this the crs info of the GeoDataFrame is not updated"
   ]
  },
  {
   "cell_type": "markdown",
   "id": "61cce5ce",
   "metadata": {},
   "source": [
    "#### Project the MTL basemap and set the active geometry of the trips dataframe as the `start_geometry`. (0.5 Point)\n",
    "The montreal data should be stored in a variable called `mtl`. Project the data to to EPSG 32618\n",
    "<Br> In the next step, you need to change the start geometry of the `trips_gdf` file to `start_geometry`"
   ]
  },
  {
   "cell_type": "code",
   "execution_count": 40,
   "id": "f38c59e9",
   "metadata": {},
   "outputs": [],
   "source": [
    "#Your code here\n",
    "mtl = mtl.to_crs(\"EPSG:32618\")\n",
    "mtl.crs = \"EPSG:32618\"\n",
    "trips_gdf = trips_gdf.set_geometry(\"start_geometry\")"
   ]
  },
  {
   "cell_type": "markdown",
   "id": "0b60c41b",
   "metadata": {},
   "source": [
    "Redo the plot"
   ]
  },
  {
   "cell_type": "code",
   "execution_count": 41,
   "id": "b7b1ce6b",
   "metadata": {},
   "outputs": [
    {
     "data": {
      "text/plain": [
       "<AxesSubplot:>"
      ]
     },
     "execution_count": 41,
     "metadata": {},
     "output_type": "execute_result"
    },
    {
     "data": {
      "image/png": "[encoded data removed]",
      "text/plain": [
       "<Figure size 432x288 with 1 Axes>"
      ]
     },
     "metadata": {
      "needs_background": "light"
     },
     "output_type": "display_data"
    }
   ],
   "source": [
    "ax = mtl.plot(color='white', edgecolor='black')\n",
    "# We can now plot our GeoDataFrame\n",
    "trips_gdf.head(n=500).plot(ax=ax, color='red')"
   ]
  },
  {
   "cell_type": "markdown",
   "id": "f69b7bd1",
   "metadata": {},
   "source": [
    "#### Add a column in the the GeoDataFrame that stores the distance between start_geometry and end_geometry. (1 point)\n",
    "Remember: Your active geometry column is `start_geometry` column. So, when you call the `distance` function on trips_gdf, that column is automatically passed.<br>\n",
    "Thus far you have specified which column you want to calculate the distance *from*. The distance function requires as a parameter another geometry to calculate the distance *to*. The *to* should be `end_geometry` in this case.<br>\n",
    "Note that: you will gave to convert the `end_geometry` to a `GeoSeries` before passing it on to the distance function. To do this, extract the `end_gemetry` column and pass it to the `gpd.GeoSeries` function. <br>\n",
    "The resulting distance should be stored in a new column in the geodataframe (trips_gdf) called `distance`"
   ]
  },
  {
   "cell_type": "code",
   "execution_count": 53,
   "id": "db543e8e",
   "metadata": {},
   "outputs": [],
   "source": [
    "# Your code here\n",
    "trips_gdf['distance']=trips_gdf.distance(gpd.GeoSeries(trips_gdf['end_geometry']))"
   ]
  },
  {
   "cell_type": "markdown",
   "id": "330d0bab",
   "metadata": {},
   "source": [
    "#### What is the average distance of a bixi trip in kms (show only 3 decimal points)? (1 point)"
   ]
  },
  {
   "cell_type": "code",
   "execution_count": null,
   "id": "d578ec8d",
   "metadata": {},
   "outputs": [],
   "source": [
    "# Your code here\n"
   ]
  },
  {
   "cell_type": "markdown",
   "id": "a5f20af6",
   "metadata": {},
   "source": [
    "#### Which day of the week do people travel the most on average? (1 point)\n",
    "Remember *groupby* and *aggregation*.<br>\n",
    "You are trying to get the max of the mean distance. <br>\n",
    "Look at the `idxmax()` function associated with pandas. <br>\n",
    "`trips_gdf.start_date.dt.day_of_week` gives you day number. Day 0 is Sunday. In the output, you need to convert the number to a day. Try to use a disctionary or list instead of if-else statements for the conversion. Using if-else statements will result is 0.5 less marks.<br>"
   ]
  },
  {
   "cell_type": "code",
   "execution_count": null,
   "id": "908a7fff",
   "metadata": {},
   "outputs": [],
   "source": [
    "#Your code here\n"
   ]
  },
  {
   "cell_type": "markdown",
   "id": "8a9c94f5",
   "metadata": {},
   "source": [
    "#### Spatial Join the start points with the Montreal shapefile. (3 points)\n",
    "##### The goal is to attach the Montreal Borough name to the points\n",
    "#### The resulting layer should have POINT geometry(s).\n",
    "Here is a tutorial for spatial join: https://geopandas.org/gallery/spatial_joins.html\n",
    "<Br>For this exercise we need a *left* join. You can specify this through the `how` parameter\n",
    "<Br>After the join remove the column `index_right`, `cartodb_id`, and `type` by using `drop`\n",
    "<Br>Rename the `district` column as `start_district`\n",
    "<Br> You can mame the joined file `trips_gdf`"
   ]
  },
  {
   "cell_type": "code",
   "execution_count": null,
   "id": "eb443e10",
   "metadata": {},
   "outputs": [],
   "source": [
    "#Your code here\n"
   ]
  },
  {
   "cell_type": "markdown",
   "id": "d4ed86da",
   "metadata": {},
   "source": [
    "#### Spatial Join the end points with the Montreal shapefile. (2 points)\n",
    "#### The resulting layer should have POINT geometry(s).\n",
    "You need to change the active geometry column to `end_geometry` before the join\n",
    "<Br>After the join remove the `column index_right`, `cartodb_id`, and `type` by using `drop`\n",
    "<Br>Again, we are going for a *left* join\n",
    "<Br>Rename the `district` column as `end_district`\n",
    "<Br> You can mame the joined file `trips_gdf`\n",
    "<Br>Reset the active geoemtry as the `start_geoemetry`"
   ]
  },
  {
   "cell_type": "code",
   "execution_count": null,
   "id": "20365a01",
   "metadata": {},
   "outputs": [],
   "source": [
    "#Your code here\n"
   ]
  },
  {
   "cell_type": "markdown",
   "id": "2c65e0bb",
   "metadata": {},
   "source": [
    "#### In which districts do most and least trips originate? (1 point)\n",
    "A table with the names of district and number of trips arranged in descending order is acceptable. Alternatively, you can print the names of the districts.\n",
    "<Br>You need to group the columns by the `end_district` to organize trip data by the destination\n",
    "<Br>A table with the names of district and number of trips arranged in descending order is acceptable\n",
    "<Br>Remember that the `size` function returns a more managable output than `count` in these cases."
   ]
  },
  {
   "cell_type": "code",
   "execution_count": null,
   "id": "8e24e702",
   "metadata": {},
   "outputs": [],
   "source": [
    "#Your code here\n"
   ]
  },
  {
   "cell_type": "markdown",
   "id": "49071de8",
   "metadata": {
    "tags": []
   },
   "source": [
    "#### Make a map to visualize the spatial distribution of where (district) most trips originate? (2.5 Points)\n",
    "The idea is to create a choropleth map.<br>\n",
    "Some code and comments are given for you to start. Things inside <> need to be replaced with your code.<br>\n",
    "You will need to 'merge' the cnts dataframe with the mtl GeoDataFrame to have counts and polygon geometry in the same file. <br>\n",
    "You are going for a attribute join, or [`merge`](https://pandas.pydata.org/pandas-docs/stable/reference/api/pandas.DataFrame.merge.html#pandas.DataFrame.merge). Look at the documentation for [merge](https://pandas.pydata.org/pandas-docs/stable/reference/api/pandas.DataFrame.merge.html#pandas.DataFrame.merge) <br>\n",
    "First create a dataframe called cnts to store most common start points.\n",
    "* `cnts` is your left dataframe and `mtl` should be passe as a parameter and becomes the right dataframe. \n",
    "* You will need to specify the columns on which the join is taking place using the `left_on` and `right_on` parameters.\n",
    "* Sice you want to preserve all districts in the `mtl` dataframe. Use a `right` join by specifying the `how` parameter.\n",
    "* Note that many districts no trips data associated with them. Thus, unless you specify a right join, they will be elimintaed from the joined tabled and will produce a map which looks slightly different from the other maps.\n",
    "\n",
    "The districts which did not have any trips data will have `na` as the number of trips which will need to be converted to 0 before plotting."
   ]
  },
  {
   "cell_type": "code",
   "execution_count": null,
   "id": "13262971",
   "metadata": {},
   "outputs": [],
   "source": [
    "#Your code here\n",
    "cnts = <replace with answer from previous cell>.to_frame('count').reset_index()\n",
    "cnts = cnts.merge(<Fill the parameters required to merge cnts with mtl>)\n",
    "cnts['start_district'] = cnts['start_district'].fillna(0) #Fill missing values/na with 0\n",
    "cnts['count'] =  #Fill missing values/na for count column with 0\n",
    "cnts = #Convert cnts into geodataframe. remember to specify geometry column and crs (EPSG:32618)\n",
    "#Plot the cnts geodataframe. Search how to plot choropleth with geopandas. This should be 1-2 lines of code using the plot() function\n"
   ]
  },
  {
   "cell_type": "markdown",
   "id": "6b4d3126",
   "metadata": {},
   "source": [
    "#### In which district do most trips end? (1 point)\n",
    "A table with the names of district and number of trips arranged in descending order is acceptable"
   ]
  },
  {
   "cell_type": "code",
   "execution_count": null,
   "id": "a09f577a",
   "metadata": {},
   "outputs": [],
   "source": [
    "#Your code here\n"
   ]
  },
  {
   "cell_type": "markdown",
   "id": "4475d7d9",
   "metadata": {},
   "source": [
    "#### What is the most common start AND end district pair? (1 point)\n",
    "A table with the names of strart and end district and number of trips arranged in descending order is acceptable"
   ]
  },
  {
   "cell_type": "code",
   "execution_count": null,
   "id": "acae65f0",
   "metadata": {},
   "outputs": [],
   "source": [
    "#Your code here\n"
   ]
  },
  {
   "cell_type": "markdown",
   "id": "25260085",
   "metadata": {},
   "source": [
    "#### On average which pair of start and end district takes the longest time to commute? (1 Point)\n",
    "A table is acceptable. <br>\n",
    "Remember that you can group on multiple coulumns"
   ]
  },
  {
   "cell_type": "code",
   "execution_count": null,
   "id": "becb0df7",
   "metadata": {
    "scrolled": true
   },
   "outputs": [],
   "source": [
    "#Your code here\n"
   ]
  }
 ],
 "metadata": {
  "kernelspec": {
   "display_name": "Python 3 (ipykernel)",
   "language": "python",
   "name": "python3"
  },
  "language_info": {
   "codemirror_mode": {
    "name": "ipython",
    "version": 3
   },
   "file_extension": ".py",
   "mimetype": "text/x-python",
   "name": "python",
   "nbconvert_exporter": "python",
   "pygments_lexer": "ipython3",
   "version": "3.8.10"
  }
 },
 "nbformat": 4,
 "nbformat_minor": 5
}
