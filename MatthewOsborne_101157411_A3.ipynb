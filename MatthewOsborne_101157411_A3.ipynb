{
 "cells": [
  {
   "cell_type": "markdown",
   "id": "1d55bed7-b531-4d24-9d76-547e0dfc0470",
   "metadata": {},
   "source": [
    "## Even Numbers (0.5 point)\n",
    "Write a for loop to print all even numbers between 35 and 231. Hint: Look at the documentation for range and remember that alternate numbers are even. (0.5 point)"
   ]
  },
  {
   "cell_type": "code",
   "execution_count": null,
   "id": "f1277ac2-4255-45e4-8c76-41a0f699d120",
   "metadata": {},
   "outputs": [],
   "source": [
    "for i in range(36,232,2):\n",
    "    print(i)"
   ]
  },
  {
   "cell_type": "markdown",
   "id": "8f0cd9d2-cfcb-4d7c-a59f-01c4a616f0c6",
   "metadata": {},
   "source": [
    "## Working with Lists\n",
    "### Create a list of words and print the number of letters in each word (1 point)"
   ]
  },
  {
   "cell_type": "code",
   "execution_count": null,
   "id": "9f7670f4-9844-4f2b-8319-4d1fb121c621",
   "metadata": {},
   "outputs": [],
   "source": [
    "#Your code here\n",
    "#Create a list\n",
    "NHL = [\"Senators\", \"Canadiens\", \"Maple Leafs\", \"Jets\", \"Flames\", \"Oilers\", \"Canucks\"]\n",
    "#Use for loops\n",
    "for i in NHL:\n",
    "    print(len(i))\n"
   ]
  },
  {
   "cell_type": "markdown",
   "id": "01859ec8-a5cd-4a21-a223-3f72814f7985",
   "metadata": {},
   "source": [
    "## Use the same list and print only the words which have a 'p' (caps or no caps) (0.5 point).\n",
    "\n",
    "Hint: Search for the `in` keyword in Python"
   ]
  },
  {
   "cell_type": "code",
   "execution_count": null,
   "id": "b8f4856f-46eb-45fe-8bb6-56cfb8323710",
   "metadata": {},
   "outputs": [],
   "source": [
    "#Your code here\n",
    "for i in NHL:\n",
    "    i = i.lower()\n",
    "    if('p' in i):\n",
    "        print(i)"
   ]
  },
  {
   "cell_type": "markdown",
   "id": "cb34909d",
   "metadata": {
    "tags": []
   },
   "source": [
    "## This code has 2 parts. Both work with a range of numbers defined by the user.\n",
    "### Print Sum of Numbers. (0.5 points)\n",
    "### In the second step, print the sum of the remainders when the numbers are divided by 5 and the remainder is not 0. (1 point)\n",
    "\n",
    "Hint: Search for the `%` operator"
   ]
  },
  {
   "cell_type": "code",
   "execution_count": null,
   "id": "7e82e288",
   "metadata": {},
   "outputs": [],
   "source": [
    "#Enter code to accept input from user\n",
    "#Don't forget to typecast input to integer\n",
    "start_no = int(input(\"Enter an integer number: \"))\n",
    "end_no = int(input(\"Enter another number: \"))"
   ]
  },
  {
   "cell_type": "code",
   "execution_count": null,
   "id": "bdc156c5",
   "metadata": {},
   "outputs": [],
   "source": [
    "#Write your code here.\n",
    "#Use a for/while loop to generate numbers from start to the end number (both inclusive)\n",
    "#Hint: You may need to use range()\n",
    "if(start_no < end_no):\n",
    "    sum_of_nos = 0 #This variable will hold the total\n",
    "    for i in range(start_no,end_no+1):\n",
    "        sum_of_nos = sum_of_nos + i\n",
    "else:\n",
    "    print(\"Try Again\")"
   ]
  },
  {
   "cell_type": "code",
   "execution_count": null,
   "id": "7d4cd081",
   "metadata": {},
   "outputs": [],
   "source": [
    "#The output should be just a number\n",
    "#This cell does not need modification\n",
    "print(sum_of_nos)"
   ]
  },
  {
   "cell_type": "code",
   "execution_count": null,
   "id": "03acff87-6733-4e9d-be11-300c299002e5",
   "metadata": {},
   "outputs": [],
   "source": [
    "#This cell is for the second part of the question\n",
    "if(start_no < end_no):\n",
    "    sum_of_remainders = 0\n",
    "#Use a nested for-if loop\n",
    "    for i in range(start_no, end_no+1):\n",
    "        x = i%5\n",
    "        if(x!=0):\n",
    "            sum_of_remainders = sum_of_remainders + x\n",
    "else:\n",
    "    print(\"Try Again\")\n"
   ]
  },
  {
   "cell_type": "code",
   "execution_count": null,
   "id": "d488f1a3-a586-4a68-a1da-bdabb3a488b9",
   "metadata": {},
   "outputs": [],
   "source": [
    "#The output should be just a number\n",
    "#This cell does not need modification\n",
    "print(sum_of_remainders)"
   ]
  },
  {
   "cell_type": "markdown",
   "id": "73d2dc37-45ee-42da-b275-7fb4d2f9baeb",
   "metadata": {},
   "source": [
    "## Coordinates within bounding box. (1.5)\n",
    "You have the coordinates for the 4 corners of the bounding box of your study area where you are conducting soil sampling. You also have a list of coordinates of existing samples. Count the coordinates which fall inside your study area.\n"
   ]
  },
  {
   "cell_type": "code",
   "execution_count": null,
   "id": "fffa2b99-fb17-4d79-b9bb-17d6a2cf60ea",
   "metadata": {},
   "outputs": [],
   "source": [
    "bbox = [[-75.7994568013,45.3210282544],[-75.5865966938,45.3210282544],[-75.5865966938,45.4603867028],[-75.7994568013,45.4603867028]]\n",
    "existing_coords = [(-75.746569, 45.3945515),(-75.718565, 45.379090),(-75.982660, 45.237535),(-75.691850, 45.381406),(75.143976, 45.561820), (-75.616233, 45.506543)] \n",
    "\n",
    "#Break down the list to get the x and y coordinates of the 4 corners\n",
    "left_bottom_x = bbox[0][0] #First get the 1st element of the big array. This returns a list. then extract the first value in the returned list\n",
    "left_bottom_y = bbox[0][1]\n",
    "right_bottom_x = bbox[1][0]\n",
    "right_bottom_y = bbox[1][1]\n",
    "right_top_x = bbox[2][0]\n",
    "right_top_y = bbox[2][1]\n",
    "left_top_x = bbox[3][0]\n",
    "left_top_y = bbox[3][1]\n",
    "meets_condition = 0 #This variable will store the count\n",
    "#Nested for-if loop\n",
    "for i in existing_coords:\n",
    "    for j in i:\n",
    "        x = False\n",
    "        y = False\n",
    "        if(j >= left_bottom_x and j >= left_top_x and j <= right_bottom_x and j <= right_top_x):\n",
    "            x = True\n",
    "        elif(j >= left_bottom_y and j >= right_bottom_y and j <= right_top_y and j <= left_top_y):\n",
    "            y = True\n",
    "    if(x == y):\n",
    "        meets_condition = meets_condition + 1"
   ]
  },
  {
   "cell_type": "code",
   "execution_count": null,
   "id": "cd5cd68a-7d76-4134-ba18-15c3d27ea257",
   "metadata": {},
   "outputs": [],
   "source": [
    "#The output should be just a number\n",
    "#This cell does not need modification\n",
    "print(meets_condition)"
   ]
  }
 ],
 "metadata": {
  "kernelspec": {
   "display_name": "Python 3 (ipykernel)",
   "language": "python",
   "name": "python3"
  },
  "language_info": {
   "codemirror_mode": {
    "name": "ipython",
    "version": 3
   },
   "file_extension": ".py",
   "mimetype": "text/x-python",
   "name": "python",
   "nbconvert_exporter": "python",
   "pygments_lexer": "ipython3",
   "version": "3.8.10"
  }
 },
 "nbformat": 4,
 "nbformat_minor": 5
}
